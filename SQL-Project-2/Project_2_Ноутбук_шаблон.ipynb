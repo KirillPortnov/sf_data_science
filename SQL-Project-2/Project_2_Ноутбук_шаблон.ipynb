{
  "cells": [
    {
      "cell_type": "markdown",
      "id": "42289889-bd57-434e-9637-d3e354756316",
      "metadata": {
        "id": "42289889-bd57-434e-9637-d3e354756316"
      },
      "source": [
        "<center> <img src = https://raw.githubusercontent.com/AndreyRysistov/DatasetsForPandas/main/hh%20label.jpg alt=\"drawing\" style=\"width:400px;\">"
      ]
    },
    {
      "attachments": {},
      "cell_type": "markdown",
      "id": "829cb75b-f14e-4ba8-9195-7ba929a7d656",
      "metadata": {
        "id": "829cb75b-f14e-4ba8-9195-7ba929a7d656",
        "tags": []
      },
      "source": [
        "# <center> Проект 2: Анализ вакансий из HeadHunter\n",
        "   "
      ]
    },
    {
      "cell_type": "code",
      "execution_count": 1,
      "id": "dccfde33-2452-43fb-a8a5-5c6ebc02a71d",
      "metadata": {
        "id": "dccfde33-2452-43fb-a8a5-5c6ebc02a71d"
      },
      "outputs": [],
      "source": [
        "import psycopg2\n",
        "import pandas as pd\n",
        "import matplotlib.pyplot as plt\n",
        "import requests \n",
        "from bs4 import BeautifulSoup\n",
        "\n",
        "\n",
        "#отключаем обрезание текста в display\n",
        "pd.set_option('display.max_colwidth', None)\n",
        "\n",
        "# параметры подключения\n",
        "from config import *"
      ]
    },
    {
      "cell_type": "code",
      "execution_count": 2,
      "id": "oVKH4ehvf8Ay",
      "metadata": {
        "id": "oVKH4ehvf8Ay"
      },
      "outputs": [],
      "source": [
        "# вставьте сюда параметры подключения из юнита 1. Работа с базой данных из Python \n",
        "DBNAME = 'project_sql'\n",
        "USER = 'skillfactory'\n",
        "PASSWORD = 'cCkxxLVrDE8EbvjueeMedPKt'\n",
        "HOST = '84.201.134.129'\n",
        "PORT = 5432"
      ]
    },
    {
      "cell_type": "code",
      "execution_count": 3,
      "id": "G4X_q8KBf7SF",
      "metadata": {
        "id": "G4X_q8KBf7SF"
      },
      "outputs": [],
      "source": [
        "connection = psycopg2.connect(\n",
        "    dbname=DBNAME,\n",
        "    user=USER,\n",
        "    host=HOST,\n",
        "    password=PASSWORD,\n",
        "    port=PORT\n",
        ")\n"
      ]
    },
    {
      "cell_type": "markdown",
      "id": "0dc6476b-7a00-44f1-ac93-6e3baed33a29",
      "metadata": {
        "id": "0dc6476b-7a00-44f1-ac93-6e3baed33a29"
      },
      "source": [
        "# Юнит 3. Предварительный анализ данных"
      ]
    },
    {
      "cell_type": "markdown",
      "id": "889782b6-8d1c-410e-8920-e57f27917c64",
      "metadata": {
        "id": "889782b6-8d1c-410e-8920-e57f27917c64"
      },
      "source": [
        "1. Напишите запрос, который посчитает количество вакансий в нашей базе (вакансии находятся в таблице vacancies). "
      ]
    },
    {
      "cell_type": "code",
      "execution_count": 4,
      "id": "bc39e68e-ed02-4ee2-9235-7258a2f867a8",
      "metadata": {
        "id": "bc39e68e-ed02-4ee2-9235-7258a2f867a8"
      },
      "outputs": [],
      "source": [
        "# текст запроса\n",
        "\n",
        "query_3_1 = f'''\n",
        "SELECT\n",
        "    COUNT(public.vacancies.id)\n",
        "FROM\n",
        "    public.vacancies\n",
        "        '''\n"
      ]
    },
    {
      "cell_type": "code",
      "execution_count": 5,
      "id": "7mAwtsk4hEHY",
      "metadata": {
        "id": "7mAwtsk4hEHY"
      },
      "outputs": [
        {
          "name": "stderr",
          "output_type": "stream",
          "text": [
            "C:\\Users\\Asus Tuf Gaming\\AppData\\Local\\Temp\\ipykernel_15132\\3120446735.py:2: UserWarning: pandas only supports SQLAlchemy connectable (engine/connection) or database string URI or sqlite3 DBAPI2 connection. Other DBAPI2 objects are not tested. Please consider using SQLAlchemy.\n",
            "  vac_n = pd.read_sql_query(query_3_1, connection)\n"
          ]
        },
        {
          "data": {
            "text/html": [
              "<div>\n",
              "<style scoped>\n",
              "    .dataframe tbody tr th:only-of-type {\n",
              "        vertical-align: middle;\n",
              "    }\n",
              "\n",
              "    .dataframe tbody tr th {\n",
              "        vertical-align: top;\n",
              "    }\n",
              "\n",
              "    .dataframe thead th {\n",
              "        text-align: right;\n",
              "    }\n",
              "</style>\n",
              "<table border=\"1\" class=\"dataframe\">\n",
              "  <thead>\n",
              "    <tr style=\"text-align: right;\">\n",
              "      <th></th>\n",
              "      <th>count</th>\n",
              "    </tr>\n",
              "  </thead>\n",
              "  <tbody>\n",
              "    <tr>\n",
              "      <th>0</th>\n",
              "      <td>49197</td>\n",
              "    </tr>\n",
              "  </tbody>\n",
              "</table>\n",
              "</div>"
            ],
            "text/plain": [
              "   count\n",
              "0  49197"
            ]
          },
          "metadata": {},
          "output_type": "display_data"
        }
      ],
      "source": [
        "# результат запроса\n",
        "vac_n = pd.read_sql_query(query_3_1, connection)\n",
        "display(vac_n)"
      ]
    },
    {
      "cell_type": "markdown",
      "id": "b583485d-1f9e-494e-ada4-80ffff7c53d6",
      "metadata": {
        "id": "b583485d-1f9e-494e-ada4-80ffff7c53d6"
      },
      "source": [
        "2. Напишите запрос, который посчитает количество работодателей (таблица employers). "
      ]
    },
    {
      "cell_type": "code",
      "execution_count": 6,
      "id": "5408c52c-3407-4a63-b25b-1aafa2322d28",
      "metadata": {
        "id": "5408c52c-3407-4a63-b25b-1aafa2322d28"
      },
      "outputs": [
        {
          "name": "stderr",
          "output_type": "stream",
          "text": [
            "C:\\Users\\Asus Tuf Gaming\\AppData\\Local\\Temp\\ipykernel_15132\\4038510429.py:10: UserWarning: pandas only supports SQLAlchemy connectable (engine/connection) or database string URI or sqlite3 DBAPI2 connection. Other DBAPI2 objects are not tested. Please consider using SQLAlchemy.\n",
            "  emp_n = pd.read_sql_query(query, connection)\n"
          ]
        },
        {
          "data": {
            "text/html": [
              "<div>\n",
              "<style scoped>\n",
              "    .dataframe tbody tr th:only-of-type {\n",
              "        vertical-align: middle;\n",
              "    }\n",
              "\n",
              "    .dataframe tbody tr th {\n",
              "        vertical-align: top;\n",
              "    }\n",
              "\n",
              "    .dataframe thead th {\n",
              "        text-align: right;\n",
              "    }\n",
              "</style>\n",
              "<table border=\"1\" class=\"dataframe\">\n",
              "  <thead>\n",
              "    <tr style=\"text-align: right;\">\n",
              "      <th></th>\n",
              "      <th>employers_entries</th>\n",
              "      <th>employers_opened</th>\n",
              "      <th>employers_unic</th>\n",
              "    </tr>\n",
              "  </thead>\n",
              "  <tbody>\n",
              "    <tr>\n",
              "      <th>0</th>\n",
              "      <td>23501</td>\n",
              "      <td>23501</td>\n",
              "      <td>23175</td>\n",
              "    </tr>\n",
              "  </tbody>\n",
              "</table>\n",
              "</div>"
            ],
            "text/plain": [
              "   employers_entries  employers_opened  employers_unic\n",
              "0              23501             23501           23175"
            ]
          },
          "metadata": {},
          "output_type": "display_data"
        },
        {
          "name": "stdout",
          "output_type": "stream",
          "text": [
            "Всего записей в таблице employers 23501, пустых полей в столбце с наименованием работодателей нет. Уникальных наименований работодателей 23175, что составляет более 98%. Посмотрим, что означают дубли в справочнике работодателей.\n"
          ]
        },
        {
          "name": "stderr",
          "output_type": "stream",
          "text": [
            "C:\\Users\\Asus Tuf Gaming\\AppData\\Local\\Temp\\ipykernel_15132\\4038510429.py:31: UserWarning: pandas only supports SQLAlchemy connectable (engine/connection) or database string URI or sqlite3 DBAPI2 connection. Other DBAPI2 objects are not tested. Please consider using SQLAlchemy.\n",
            "  emp_dubl = pd.read_sql_query(query, connection)\n"
          ]
        },
        {
          "data": {
            "text/html": [
              "<div>\n",
              "<style scoped>\n",
              "    .dataframe tbody tr th:only-of-type {\n",
              "        vertical-align: middle;\n",
              "    }\n",
              "\n",
              "    .dataframe tbody tr th {\n",
              "        vertical-align: top;\n",
              "    }\n",
              "\n",
              "    .dataframe thead th {\n",
              "        text-align: right;\n",
              "    }\n",
              "</style>\n",
              "<table border=\"1\" class=\"dataframe\">\n",
              "  <thead>\n",
              "    <tr style=\"text-align: right;\">\n",
              "      <th></th>\n",
              "      <th>first_id</th>\n",
              "      <th>second_id</th>\n",
              "      <th>name</th>\n",
              "      <th>first_area</th>\n",
              "      <th>second_area</th>\n",
              "    </tr>\n",
              "  </thead>\n",
              "  <tbody>\n",
              "    <tr>\n",
              "      <th>0</th>\n",
              "      <td>916477</td>\n",
              "      <td>2508807</td>\n",
              "      <td>Автомастер</td>\n",
              "      <td>71</td>\n",
              "      <td>1641</td>\n",
              "    </tr>\n",
              "    <tr>\n",
              "      <th>1</th>\n",
              "      <td>2508807</td>\n",
              "      <td>916477</td>\n",
              "      <td>Автомастер</td>\n",
              "      <td>1641</td>\n",
              "      <td>71</td>\n",
              "    </tr>\n",
              "    <tr>\n",
              "      <th>2</th>\n",
              "      <td>5908512</td>\n",
              "      <td>214174</td>\n",
              "      <td>Автосила</td>\n",
              "      <td>2041</td>\n",
              "      <td>26</td>\n",
              "    </tr>\n",
              "    <tr>\n",
              "      <th>3</th>\n",
              "      <td>214174</td>\n",
              "      <td>5908512</td>\n",
              "      <td>Автосила</td>\n",
              "      <td>26</td>\n",
              "      <td>2041</td>\n",
              "    </tr>\n",
              "    <tr>\n",
              "      <th>4</th>\n",
              "      <td>4556149</td>\n",
              "      <td>3385635</td>\n",
              "      <td>Агросервис</td>\n",
              "      <td>58</td>\n",
              "      <td>1</td>\n",
              "    </tr>\n",
              "    <tr>\n",
              "      <th>5</th>\n",
              "      <td>3070902</td>\n",
              "      <td>4556149</td>\n",
              "      <td>Агросервис</td>\n",
              "      <td>1546</td>\n",
              "      <td>58</td>\n",
              "    </tr>\n",
              "    <tr>\n",
              "      <th>6</th>\n",
              "      <td>3070902</td>\n",
              "      <td>3385635</td>\n",
              "      <td>Агросервис</td>\n",
              "      <td>1546</td>\n",
              "      <td>1</td>\n",
              "    </tr>\n",
              "    <tr>\n",
              "      <th>7</th>\n",
              "      <td>4556149</td>\n",
              "      <td>3070902</td>\n",
              "      <td>Агросервис</td>\n",
              "      <td>58</td>\n",
              "      <td>1546</td>\n",
              "    </tr>\n",
              "    <tr>\n",
              "      <th>8</th>\n",
              "      <td>3385635</td>\n",
              "      <td>4556149</td>\n",
              "      <td>Агросервис</td>\n",
              "      <td>1</td>\n",
              "      <td>58</td>\n",
              "    </tr>\n",
              "    <tr>\n",
              "      <th>9</th>\n",
              "      <td>3385635</td>\n",
              "      <td>3070902</td>\n",
              "      <td>Агросервис</td>\n",
              "      <td>1</td>\n",
              "      <td>1546</td>\n",
              "    </tr>\n",
              "  </tbody>\n",
              "</table>\n",
              "</div>"
            ],
            "text/plain": [
              "   first_id  second_id        name  first_area  second_area\n",
              "0    916477    2508807  Автомастер          71         1641\n",
              "1   2508807     916477  Автомастер        1641           71\n",
              "2   5908512     214174    Автосила        2041           26\n",
              "3    214174    5908512    Автосила          26         2041\n",
              "4   4556149    3385635  Агросервис          58            1\n",
              "5   3070902    4556149  Агросервис        1546           58\n",
              "6   3070902    3385635  Агросервис        1546            1\n",
              "7   4556149    3070902  Агросервис          58         1546\n",
              "8   3385635    4556149  Агросервис           1           58\n",
              "9   3385635    3070902  Агросервис           1         1546"
            ]
          },
          "metadata": {},
          "output_type": "display_data"
        },
        {
          "name": "stderr",
          "output_type": "stream",
          "text": [
            "C:\\Users\\Asus Tuf Gaming\\AppData\\Local\\Temp\\ipykernel_15132\\4038510429.py:50: UserWarning: pandas only supports SQLAlchemy connectable (engine/connection) or database string URI or sqlite3 DBAPI2 connection. Other DBAPI2 objects are not tested. Please consider using SQLAlchemy.\n",
            "  emp_dubl_reg = pd.read_sql_query(query, connection)\n"
          ]
        },
        {
          "name": "stdout",
          "output_type": "stream",
          "text": [
            "Видно, что работодатели с одинаковыми наименованиями встречаются в двух, а то и в трех разных регионах. Посмотрим, встречаются ли в одном регионе работодатели с одинаковым наименованием:\n"
          ]
        },
        {
          "data": {
            "text/html": [
              "<div>\n",
              "<style scoped>\n",
              "    .dataframe tbody tr th:only-of-type {\n",
              "        vertical-align: middle;\n",
              "    }\n",
              "\n",
              "    .dataframe tbody tr th {\n",
              "        vertical-align: top;\n",
              "    }\n",
              "\n",
              "    .dataframe thead th {\n",
              "        text-align: right;\n",
              "    }\n",
              "</style>\n",
              "<table border=\"1\" class=\"dataframe\">\n",
              "  <thead>\n",
              "    <tr style=\"text-align: right;\">\n",
              "      <th></th>\n",
              "      <th>first_id</th>\n",
              "      <th>second_id</th>\n",
              "      <th>name</th>\n",
              "      <th>first_area</th>\n",
              "      <th>second_area</th>\n",
              "    </tr>\n",
              "  </thead>\n",
              "  <tbody>\n",
              "    <tr>\n",
              "      <th>0</th>\n",
              "      <td>1019812</td>\n",
              "      <td>5360841</td>\n",
              "      <td>Новые Технологии</td>\n",
              "      <td>2</td>\n",
              "      <td>2</td>\n",
              "    </tr>\n",
              "    <tr>\n",
              "      <th>1</th>\n",
              "      <td>1969799</td>\n",
              "      <td>5367608</td>\n",
              "      <td>Новые Технологии</td>\n",
              "      <td>1</td>\n",
              "      <td>1</td>\n",
              "    </tr>\n",
              "    <tr>\n",
              "      <th>2</th>\n",
              "      <td>4339988</td>\n",
              "      <td>5164580</td>\n",
              "      <td>Перспектива</td>\n",
              "      <td>1</td>\n",
              "      <td>1</td>\n",
              "    </tr>\n",
              "    <tr>\n",
              "      <th>3</th>\n",
              "      <td>735079</td>\n",
              "      <td>4344000</td>\n",
              "      <td>Перспектива</td>\n",
              "      <td>1</td>\n",
              "      <td>1</td>\n",
              "    </tr>\n",
              "    <tr>\n",
              "      <th>4</th>\n",
              "      <td>4339988</td>\n",
              "      <td>4344000</td>\n",
              "      <td>Перспектива</td>\n",
              "      <td>1</td>\n",
              "      <td>1</td>\n",
              "    </tr>\n",
              "    <tr>\n",
              "      <th>5</th>\n",
              "      <td>735079</td>\n",
              "      <td>4339988</td>\n",
              "      <td>Перспектива</td>\n",
              "      <td>1</td>\n",
              "      <td>1</td>\n",
              "    </tr>\n",
              "    <tr>\n",
              "      <th>6</th>\n",
              "      <td>4344000</td>\n",
              "      <td>5164580</td>\n",
              "      <td>Перспектива</td>\n",
              "      <td>1</td>\n",
              "      <td>1</td>\n",
              "    </tr>\n",
              "    <tr>\n",
              "      <th>7</th>\n",
              "      <td>735079</td>\n",
              "      <td>5164580</td>\n",
              "      <td>Перспектива</td>\n",
              "      <td>1</td>\n",
              "      <td>1</td>\n",
              "    </tr>\n",
              "    <tr>\n",
              "      <th>8</th>\n",
              "      <td>5713293</td>\n",
              "      <td>6005135</td>\n",
              "      <td>РОСТ</td>\n",
              "      <td>1</td>\n",
              "      <td>1</td>\n",
              "    </tr>\n",
              "    <tr>\n",
              "      <th>9</th>\n",
              "      <td>5001382</td>\n",
              "      <td>5950821</td>\n",
              "      <td>РСК</td>\n",
              "      <td>2</td>\n",
              "      <td>2</td>\n",
              "    </tr>\n",
              "  </tbody>\n",
              "</table>\n",
              "</div>"
            ],
            "text/plain": [
              "   first_id  second_id              name  first_area  second_area\n",
              "0   1019812    5360841  Новые Технологии           2            2\n",
              "1   1969799    5367608  Новые Технологии           1            1\n",
              "2   4339988    5164580       Перспектива           1            1\n",
              "3    735079    4344000       Перспектива           1            1\n",
              "4   4339988    4344000       Перспектива           1            1\n",
              "5    735079    4339988       Перспектива           1            1\n",
              "6   4344000    5164580       Перспектива           1            1\n",
              "7    735079    5164580       Перспектива           1            1\n",
              "8   5713293    6005135              РОСТ           1            1\n",
              "9   5001382    5950821               РСК           2            2"
            ]
          },
          "metadata": {},
          "output_type": "display_data"
        },
        {
          "name": "stdout",
          "output_type": "stream",
          "text": [
            "Да, в одном регионе названия работодателей тоже могут повторяться, отличать их можно только по id.\n"
          ]
        }
      ],
      "source": [
        "# текст запроса\n",
        "query = f'''\n",
        "SELECT\n",
        "    COUNT(*) employers_entries,\n",
        "    COUNT(name) employers_opened,\n",
        "    COUNT(DISTINCT name) employers_unic\n",
        "FROM\n",
        "    employers\n",
        "        '''\n",
        "emp_n = pd.read_sql_query(query, connection)\n",
        "display(emp_n)\n",
        "print(f\"Всего записей в таблице employers {emp_n['employers_entries'][0]}, пустых полей в столбце\",\n",
        "     f\"с наименованием работодателей нет. Уникальных наименований работодателей {emp_n['employers_unic'][0]},\",\n",
        "     f\"что составляет более {int(emp_n['employers_unic'][0]/emp_n['employers_entries'][0] * 100)}%.\",\n",
        "     f\"Посмотрим, что означают дубли в справочнике работодателей.\")\n",
        "query = f'''\n",
        "SELECT\n",
        "    e.id first_id,\n",
        "\ta.id second_id,\n",
        "\te.name,\n",
        "\te.area first_area,\n",
        "\ta.area second_area\n",
        "FROM\n",
        "    employers e\n",
        "\tCROSS JOIN employers a\n",
        "WHERE e.name = a.name AND e.id <> a.id\n",
        "ORDER BY e.name\n",
        "OFFSET 44\n",
        "LIMIT 10\n",
        "        '''\n",
        "emp_dubl = pd.read_sql_query(query, connection)\n",
        "display(emp_dubl)\n",
        "print(f\"Видно, что работодатели с одинаковыми наименованиями встречаются в двух, а то и в трех разных\", \n",
        "      f\"регионах. Посмотрим, встречаются ли в одном регионе работодатели с одинаковым наименованием:\")\n",
        "query = f'''\n",
        "SELECT\n",
        "    e.id first_id,\n",
        "\ta.id second_id,\n",
        "\te.name,\n",
        "\te.area first_area,\n",
        "\ta.area second_area\n",
        "FROM\n",
        "    public.employers e\n",
        "\tCROSS JOIN public.employers a\n",
        "WHERE e.name = a.name AND e.id < a.id AND e.area = a.area\n",
        "ORDER BY e.name\n",
        "OFFSET 14\n",
        "LIMIT 10\n",
        "        '''\n",
        "emp_dubl_reg = pd.read_sql_query(query, connection)\n",
        "display(emp_dubl_reg)\n",
        "print(f\"Да, в одном регионе названия работодателей тоже могут повторяться, отличать их можно только по id.\")"
      ]
    },
    {
      "cell_type": "markdown",
      "id": "a2bfff1f-c975-4bf6-84be-2185d79dcb76",
      "metadata": {
        "id": "a2bfff1f-c975-4bf6-84be-2185d79dcb76"
      },
      "source": [
        "3. Посчитате с помощью запроса количество регионов (таблица areas)."
      ]
    },
    {
      "cell_type": "code",
      "execution_count": 7,
      "id": "1m8QJwBYhey6",
      "metadata": {
        "id": "1m8QJwBYhey6"
      },
      "outputs": [
        {
          "name": "stderr",
          "output_type": "stream",
          "text": [
            "C:\\Users\\Asus Tuf Gaming\\AppData\\Local\\Temp\\ipykernel_15132\\3286050785.py:10: UserWarning: pandas only supports SQLAlchemy connectable (engine/connection) or database string URI or sqlite3 DBAPI2 connection. Other DBAPI2 objects are not tested. Please consider using SQLAlchemy.\n",
            "  ar_n = pd.read_sql_query(query, connection)\n"
          ]
        },
        {
          "data": {
            "text/html": [
              "<div>\n",
              "<style scoped>\n",
              "    .dataframe tbody tr th:only-of-type {\n",
              "        vertical-align: middle;\n",
              "    }\n",
              "\n",
              "    .dataframe tbody tr th {\n",
              "        vertical-align: top;\n",
              "    }\n",
              "\n",
              "    .dataframe thead th {\n",
              "        text-align: right;\n",
              "    }\n",
              "</style>\n",
              "<table border=\"1\" class=\"dataframe\">\n",
              "  <thead>\n",
              "    <tr style=\"text-align: right;\">\n",
              "      <th></th>\n",
              "      <th>areas_entries</th>\n",
              "      <th>areas_opened</th>\n",
              "      <th>areas_unic</th>\n",
              "    </tr>\n",
              "  </thead>\n",
              "  <tbody>\n",
              "    <tr>\n",
              "      <th>0</th>\n",
              "      <td>1362</td>\n",
              "      <td>1362</td>\n",
              "      <td>1362</td>\n",
              "    </tr>\n",
              "  </tbody>\n",
              "</table>\n",
              "</div>"
            ],
            "text/plain": [
              "   areas_entries  areas_opened  areas_unic\n",
              "0           1362          1362        1362"
            ]
          },
          "metadata": {},
          "output_type": "display_data"
        },
        {
          "name": "stdout",
          "output_type": "stream",
          "text": [
            "Все записи в таблице areas уникальны.\n"
          ]
        }
      ],
      "source": [
        "# текст запроса\n",
        "query = f'''\n",
        "SELECT\n",
        "    COUNT(*) areas_entries,\n",
        "    COUNT(name) areas_opened,\n",
        "    COUNT(DISTINCT name) areas_unic\n",
        "FROM\n",
        "    public.areas\n",
        "        '''\n",
        "ar_n = pd.read_sql_query(query, connection)\n",
        "display(ar_n)\n",
        "print(f\"Все записи в таблице areas уникальны.\")"
      ]
    },
    {
      "cell_type": "markdown",
      "id": "41bb59f3-53cc-4a67-a5bc-bedf573955e4",
      "metadata": {
        "id": "41bb59f3-53cc-4a67-a5bc-bedf573955e4"
      },
      "source": [
        "4. Посчитате с помощью запроса количество сфер деятельности в базе (таблица industries)."
      ]
    },
    {
      "cell_type": "code",
      "execution_count": 8,
      "id": "d286cf4c-707b-4cd2-9190-7ab3587d04a1",
      "metadata": {
        "id": "d286cf4c-707b-4cd2-9190-7ab3587d04a1"
      },
      "outputs": [
        {
          "name": "stderr",
          "output_type": "stream",
          "text": [
            "C:\\Users\\Asus Tuf Gaming\\AppData\\Local\\Temp\\ipykernel_15132\\2784657258.py:10: UserWarning: pandas only supports SQLAlchemy connectable (engine/connection) or database string URI or sqlite3 DBAPI2 connection. Other DBAPI2 objects are not tested. Please consider using SQLAlchemy.\n",
            "  ind_n = pd.read_sql_query(query, connection)\n"
          ]
        },
        {
          "data": {
            "text/html": [
              "<div>\n",
              "<style scoped>\n",
              "    .dataframe tbody tr th:only-of-type {\n",
              "        vertical-align: middle;\n",
              "    }\n",
              "\n",
              "    .dataframe tbody tr th {\n",
              "        vertical-align: top;\n",
              "    }\n",
              "\n",
              "    .dataframe thead th {\n",
              "        text-align: right;\n",
              "    }\n",
              "</style>\n",
              "<table border=\"1\" class=\"dataframe\">\n",
              "  <thead>\n",
              "    <tr style=\"text-align: right;\">\n",
              "      <th></th>\n",
              "      <th>industries_entries</th>\n",
              "      <th>industries_opened</th>\n",
              "      <th>industries_unic</th>\n",
              "    </tr>\n",
              "  </thead>\n",
              "  <tbody>\n",
              "    <tr>\n",
              "      <th>0</th>\n",
              "      <td>294</td>\n",
              "      <td>294</td>\n",
              "      <td>294</td>\n",
              "    </tr>\n",
              "  </tbody>\n",
              "</table>\n",
              "</div>"
            ],
            "text/plain": [
              "   industries_entries  industries_opened  industries_unic\n",
              "0                 294                294              294"
            ]
          },
          "metadata": {},
          "output_type": "display_data"
        },
        {
          "name": "stdout",
          "output_type": "stream",
          "text": [
            "Все записи в таблице industries уникальны. Посмотрим на них:\n"
          ]
        },
        {
          "name": "stderr",
          "output_type": "stream",
          "text": [
            "C:\\Users\\Asus Tuf Gaming\\AppData\\Local\\Temp\\ipykernel_15132\\2784657258.py:22: UserWarning: pandas only supports SQLAlchemy connectable (engine/connection) or database string URI or sqlite3 DBAPI2 connection. Other DBAPI2 objects are not tested. Please consider using SQLAlchemy.\n",
            "  ind_p = pd.read_sql_query(query, connection)\n"
          ]
        },
        {
          "data": {
            "text/html": [
              "<div>\n",
              "<style scoped>\n",
              "    .dataframe tbody tr th:only-of-type {\n",
              "        vertical-align: middle;\n",
              "    }\n",
              "\n",
              "    .dataframe tbody tr th {\n",
              "        vertical-align: top;\n",
              "    }\n",
              "\n",
              "    .dataframe thead th {\n",
              "        text-align: right;\n",
              "    }\n",
              "</style>\n",
              "<table border=\"1\" class=\"dataframe\">\n",
              "  <thead>\n",
              "    <tr style=\"text-align: right;\">\n",
              "      <th></th>\n",
              "      <th>name</th>\n",
              "    </tr>\n",
              "  </thead>\n",
              "  <tbody>\n",
              "    <tr>\n",
              "      <th>0</th>\n",
              "      <td>Безалкогольные напитки (продвижение, оптовая торговля)</td>\n",
              "    </tr>\n",
              "    <tr>\n",
              "      <th>1</th>\n",
              "      <td>Безалкогольные напитки (производство)</td>\n",
              "    </tr>\n",
              "    <tr>\n",
              "      <th>2</th>\n",
              "      <td>Безопасность, охранная деятельность</td>\n",
              "    </tr>\n",
              "    <tr>\n",
              "      <th>3</th>\n",
              "      <td>Бетон, кирпич, стекло и прочие силикаты (продвижение, оптовая торговля)</td>\n",
              "    </tr>\n",
              "    <tr>\n",
              "      <th>4</th>\n",
              "      <td>Бетон, кирпич, стекло и прочие силикаты (производство)</td>\n",
              "    </tr>\n",
              "    <tr>\n",
              "      <th>5</th>\n",
              "      <td>Бизнес-образование</td>\n",
              "    </tr>\n",
              "    <tr>\n",
              "      <th>6</th>\n",
              "      <td>Благотворительная организация</td>\n",
              "    </tr>\n",
              "    <tr>\n",
              "      <th>7</th>\n",
              "      <td>Благоустройство и уборка территорий и зданий</td>\n",
              "    </tr>\n",
              "    <tr>\n",
              "      <th>8</th>\n",
              "      <td>Ботанический сад, зоопарк, заповедник</td>\n",
              "    </tr>\n",
              "    <tr>\n",
              "      <th>9</th>\n",
              "      <td>Бытовая техника, электроника, климатическое оборудование (монтаж, сервис, ремонт)</td>\n",
              "    </tr>\n",
              "  </tbody>\n",
              "</table>\n",
              "</div>"
            ],
            "text/plain": [
              "                                                                                name\n",
              "0                             Безалкогольные напитки (продвижение, оптовая торговля)\n",
              "1                                              Безалкогольные напитки (производство)\n",
              "2                                                Безопасность, охранная деятельность\n",
              "3            Бетон, кирпич, стекло и прочие силикаты (продвижение, оптовая торговля)\n",
              "4                             Бетон, кирпич, стекло и прочие силикаты (производство)\n",
              "5                                                                 Бизнес-образование\n",
              "6                                                      Благотворительная организация\n",
              "7                                       Благоустройство и уборка территорий и зданий\n",
              "8                                              Ботанический сад, зоопарк, заповедник\n",
              "9  Бытовая техника, электроника, климатическое оборудование (монтаж, сервис, ремонт)"
            ]
          },
          "metadata": {},
          "output_type": "display_data"
        },
        {
          "name": "stdout",
          "output_type": "stream",
          "text": [
            "Видно, что формулировки формализованы, т.е. команда сайта вакансий провела работу над созданием справочника по сферам деятельности.\n"
          ]
        }
      ],
      "source": [
        "# текст запроса\n",
        "query = f'''\n",
        "SELECT\n",
        "    COUNT(*) industries_entries,\n",
        "    COUNT(name) industries_opened,\n",
        "    COUNT(DISTINCT name) industries_unic\n",
        "FROM\n",
        "    industries\n",
        "        '''\n",
        "ind_n = pd.read_sql_query(query, connection)\n",
        "display(ind_n)\n",
        "print(f\"Все записи в таблице industries уникальны. Посмотрим на них:\")\n",
        "query = f'''\n",
        "SELECT\n",
        "    name\n",
        "FROM\n",
        "    industries\n",
        "ORDER BY 1\n",
        "OFFSET 20\n",
        "LIMIT 10\n",
        "        '''\n",
        "ind_p = pd.read_sql_query(query, connection)\n",
        "display(ind_p)\n",
        "print(f\"Видно, что формулировки формализованы, т.е. команда\",\n",
        "      f\"сайта вакансий провела работу над созданием справочника по сферам деятельности.\")"
      ]
    },
    {
      "cell_type": "markdown",
      "id": "9a8a2181-6914-448b-85f1-38f5f18b8a93",
      "metadata": {
        "id": "9a8a2181-6914-448b-85f1-38f5f18b8a93"
      },
      "source": [
        "***"
      ]
    },
    {
      "attachments": {},
      "cell_type": "markdown",
      "id": "bf4490c9",
      "metadata": {},
      "source": [
        "Итак, в базе представлены 49 тысяч вакансий, всего на сайте зарегистрировались 23 тысячи работодателей, а специалисты по рекрутингу выделили порядка 300 направлений хозяйственной деятельности.\n",
        "\n",
        "По последним официальным данным доля лиц трудоспособного возраста составляла 56.3% населения РФ, т.е. 83 млн человек. Уровень безработицы колеблется вокруг 5% рабочей силы, т.е. в стране около 4 млн безработных. По имеющимся в базе вакансиям получится трудоустроить только 1% официально безработных.\n",
        "\n",
        "При этом, можем ли мы сказать, что от каждого работодателя поступило, в среднем, по две вакансии? Нет, для этого нужны перекрестные запросы из таблиц, т.е. мы пока не можем утверждать, что все работодатели в базе активные (имеют размещенные вакансии).\n",
        "\n",
        "Так же мы пока не можем говорить о географии работодателей, т.к. в таблице areas представлены как отдельные города, так и регионы РФ, а вдобавок и другие страны. Т.е. имеем очень разную географическую детализацию в одном справочнике."
      ]
    },
    {
      "cell_type": "markdown",
      "id": "8d62a9f3-f64e-4fe7-bdac-c4dffa16155e",
      "metadata": {
        "id": "8d62a9f3-f64e-4fe7-bdac-c4dffa16155e"
      },
      "source": [
        "# Юнит 4. Детальный анализ вакансий"
      ]
    },
    {
      "cell_type": "markdown",
      "id": "93053d3d-b284-481a-9cf7-012d7014c0e0",
      "metadata": {
        "id": "93053d3d-b284-481a-9cf7-012d7014c0e0"
      },
      "source": [
        "1. Напишите запрос, который позволит узнать, сколько (cnt) вакансий в каждом регионе (area).\n",
        "Отсортируйте по количеству вакансий в порядке убывания."
      ]
    },
    {
      "cell_type": "code",
      "execution_count": 9,
      "id": "3f069da6-fdc9-4ae7-b514-fafe2675efd3",
      "metadata": {
        "id": "3f069da6-fdc9-4ae7-b514-fafe2675efd3"
      },
      "outputs": [],
      "source": [
        "# текст запроса\n",
        "query = f'''\n",
        "WITH x AS\n",
        "(SELECT    --Подзапрос: регион-количество вакансий          \n",
        "    a.name area,\n",
        "    COUNT(*) cnt\n",
        "FROM\n",
        "    public.vacancies v\n",
        "\tJOIN areas a ON a.id = v.area_id\n",
        "GROUP BY area\n",
        "ORDER BY cnt DESC)\n",
        "(SELECT\n",
        "    area,\n",
        "\tcnt\n",
        "FROM x\n",
        "LIMIT 5)\n",
        "UNION ALL\n",
        "(SELECT\n",
        "    'all areas with vacancies',\n",
        "\tCOUNT(cnt)\n",
        "FROM x)\n",
        "UNION ALL\n",
        "(SELECT\n",
        "    'with 1 vacancy',\n",
        "\tCOUNT(cnt)\n",
        "FROM x\n",
        "WHERE cnt = 1)\n",
        "        '''\n",
        "\n"
      ]
    },
    {
      "cell_type": "code",
      "execution_count": 10,
      "id": "P7QL86hrjhRJ",
      "metadata": {
        "id": "P7QL86hrjhRJ"
      },
      "outputs": [
        {
          "name": "stderr",
          "output_type": "stream",
          "text": [
            "C:\\Users\\Asus Tuf Gaming\\AppData\\Local\\Temp\\ipykernel_15132\\1330234057.py:2: UserWarning: pandas only supports SQLAlchemy connectable (engine/connection) or database string URI or sqlite3 DBAPI2 connection. Other DBAPI2 objects are not tested. Please consider using SQLAlchemy.\n",
            "  vac_ar = pd.read_sql_query(query, connection)\n"
          ]
        },
        {
          "data": {
            "text/html": [
              "<div>\n",
              "<style scoped>\n",
              "    .dataframe tbody tr th:only-of-type {\n",
              "        vertical-align: middle;\n",
              "    }\n",
              "\n",
              "    .dataframe tbody tr th {\n",
              "        vertical-align: top;\n",
              "    }\n",
              "\n",
              "    .dataframe thead th {\n",
              "        text-align: right;\n",
              "    }\n",
              "</style>\n",
              "<table border=\"1\" class=\"dataframe\">\n",
              "  <thead>\n",
              "    <tr style=\"text-align: right;\">\n",
              "      <th></th>\n",
              "      <th>area</th>\n",
              "      <th>cnt</th>\n",
              "    </tr>\n",
              "  </thead>\n",
              "  <tbody>\n",
              "    <tr>\n",
              "      <th>0</th>\n",
              "      <td>Москва</td>\n",
              "      <td>5333</td>\n",
              "    </tr>\n",
              "    <tr>\n",
              "      <th>1</th>\n",
              "      <td>Санкт-Петербург</td>\n",
              "      <td>2851</td>\n",
              "    </tr>\n",
              "    <tr>\n",
              "      <th>2</th>\n",
              "      <td>Минск</td>\n",
              "      <td>2112</td>\n",
              "    </tr>\n",
              "    <tr>\n",
              "      <th>3</th>\n",
              "      <td>Новосибирск</td>\n",
              "      <td>2006</td>\n",
              "    </tr>\n",
              "    <tr>\n",
              "      <th>4</th>\n",
              "      <td>Алматы</td>\n",
              "      <td>1892</td>\n",
              "    </tr>\n",
              "    <tr>\n",
              "      <th>5</th>\n",
              "      <td>all areas with vacancies</td>\n",
              "      <td>769</td>\n",
              "    </tr>\n",
              "    <tr>\n",
              "      <th>6</th>\n",
              "      <td>with 1 vacancy</td>\n",
              "      <td>193</td>\n",
              "    </tr>\n",
              "  </tbody>\n",
              "</table>\n",
              "</div>"
            ],
            "text/plain": [
              "                       area   cnt\n",
              "0                    Москва  5333\n",
              "1           Санкт-Петербург  2851\n",
              "2                     Минск  2112\n",
              "3               Новосибирск  2006\n",
              "4                    Алматы  1892\n",
              "5  all areas with vacancies   769\n",
              "6            with 1 vacancy   193"
            ]
          },
          "metadata": {},
          "output_type": "display_data"
        }
      ],
      "source": [
        "# результат запроса\n",
        "vac_ar = pd.read_sql_query(query, connection)\n",
        "display(vac_ar)"
      ]
    },
    {
      "cell_type": "markdown",
      "id": "4266f0b6-1646-492a-88b4-2f6a46502135",
      "metadata": {
        "id": "4266f0b6-1646-492a-88b4-2f6a46502135"
      },
      "source": [
        "2. Напишите запрос, чтобы определить у какого количества вакансий заполнено хотя бы одно из двух полей с зарплатой."
      ]
    },
    {
      "cell_type": "code",
      "execution_count": 11,
      "id": "0c44b350-72eb-4d65-8b54-a1fc449ba9fd",
      "metadata": {
        "id": "0c44b350-72eb-4d65-8b54-a1fc449ba9fd"
      },
      "outputs": [],
      "source": [
        "# текст запроса\n",
        "query = f'''\n",
        "SELECT\n",
        "    '1. both filled' fill,\n",
        "    COUNT(*) cnt\n",
        "FROM\n",
        "    public.vacancies \n",
        "WHERE salary_from IS NOT NULL AND salary_to IS NOT NULL\n",
        "UNION ALL\n",
        "SELECT\n",
        "    '2. only one filled' fill,\n",
        "    COUNT(*) cnt\n",
        "FROM\n",
        "    public.vacancies \n",
        "WHERE salary_from IS NOT NULL OR salary_to IS NOT NULL\n",
        "UNION ALL\n",
        "SELECT\n",
        "    '3. no one filled' fill,\n",
        "    COUNT(*) cnt\n",
        "FROM\n",
        "    public.vacancies \n",
        "WHERE salary_from IS NULL AND salary_to IS NULL\n",
        "UNION ALL\n",
        "SELECT\n",
        "    '4. filled with zeros',\n",
        "    COUNT(*) cnt\n",
        "FROM\n",
        "    public.vacancies \n",
        "WHERE salary_from = 0 OR salary_to = 0\n",
        "ORDER BY fill\n",
        "        '''\n"
      ]
    },
    {
      "cell_type": "code",
      "execution_count": 12,
      "id": "rhvwaMDkoWTi",
      "metadata": {
        "id": "rhvwaMDkoWTi"
      },
      "outputs": [
        {
          "name": "stderr",
          "output_type": "stream",
          "text": [
            "C:\\Users\\Asus Tuf Gaming\\AppData\\Local\\Temp\\ipykernel_15132\\2349009775.py:2: UserWarning: pandas only supports SQLAlchemy connectable (engine/connection) or database string URI or sqlite3 DBAPI2 connection. Other DBAPI2 objects are not tested. Please consider using SQLAlchemy.\n",
            "  var_sal = pd.read_sql_query(query, connection)\n"
          ]
        },
        {
          "data": {
            "text/html": [
              "<div>\n",
              "<style scoped>\n",
              "    .dataframe tbody tr th:only-of-type {\n",
              "        vertical-align: middle;\n",
              "    }\n",
              "\n",
              "    .dataframe tbody tr th {\n",
              "        vertical-align: top;\n",
              "    }\n",
              "\n",
              "    .dataframe thead th {\n",
              "        text-align: right;\n",
              "    }\n",
              "</style>\n",
              "<table border=\"1\" class=\"dataframe\">\n",
              "  <thead>\n",
              "    <tr style=\"text-align: right;\">\n",
              "      <th></th>\n",
              "      <th>fill</th>\n",
              "      <th>cnt</th>\n",
              "    </tr>\n",
              "  </thead>\n",
              "  <tbody>\n",
              "    <tr>\n",
              "      <th>0</th>\n",
              "      <td>1. both filled</td>\n",
              "      <td>10102</td>\n",
              "    </tr>\n",
              "    <tr>\n",
              "      <th>1</th>\n",
              "      <td>2. only one filled</td>\n",
              "      <td>24073</td>\n",
              "    </tr>\n",
              "    <tr>\n",
              "      <th>2</th>\n",
              "      <td>3. no one filled</td>\n",
              "      <td>25124</td>\n",
              "    </tr>\n",
              "    <tr>\n",
              "      <th>3</th>\n",
              "      <td>4. filled with zeros</td>\n",
              "      <td>0</td>\n",
              "    </tr>\n",
              "  </tbody>\n",
              "</table>\n",
              "</div>"
            ],
            "text/plain": [
              "                   fill    cnt\n",
              "0        1. both filled  10102\n",
              "1    2. only one filled  24073\n",
              "2      3. no one filled  25124\n",
              "3  4. filled with zeros      0"
            ]
          },
          "metadata": {},
          "output_type": "display_data"
        }
      ],
      "source": [
        "# результат запроса\n",
        "var_sal = pd.read_sql_query(query, connection)\n",
        "display(var_sal)"
      ]
    },
    {
      "cell_type": "markdown",
      "id": "635c4d5d-f323-4c66-b428-50a088120aa0",
      "metadata": {
        "id": "635c4d5d-f323-4c66-b428-50a088120aa0"
      },
      "source": [
        "3. Найдите средние значения для нижней и верхней границы зарплатной вилки. Округлите значения до целого."
      ]
    },
    {
      "cell_type": "code",
      "execution_count": 13,
      "id": "603cdbe4-0ec3-4106-8eaf-c73fcdd29165",
      "metadata": {
        "id": "603cdbe4-0ec3-4106-8eaf-c73fcdd29165"
      },
      "outputs": [],
      "source": [
        "# текст запроса\n",
        "query = f'''\n",
        "SELECT\n",
        "    'mean' agg,\n",
        "\tROUND(AVG(salary_from)) salary_low,\n",
        "    ROUND(AVG(salary_to)) salary_up\n",
        "FROM\n",
        "    public.vacancies\n",
        "UNION ALL\n",
        "SELECT\n",
        "    'median',\n",
        "    ROUND(PERCENTILE_CONT(0.5) WITHIN GROUP(ORDER BY salary_from)),\n",
        "    ROUND(PERCENTILE_CONT(0.5) WITHIN GROUP(ORDER BY salary_to))\n",
        "FROM\n",
        "    public.vacancies\n",
        "ORDER BY agg\n",
        "        '''"
      ]
    },
    {
      "cell_type": "code",
      "execution_count": 14,
      "id": "pswpAb66ovZZ",
      "metadata": {
        "id": "pswpAb66ovZZ"
      },
      "outputs": [
        {
          "name": "stderr",
          "output_type": "stream",
          "text": [
            "C:\\Users\\Asus Tuf Gaming\\AppData\\Local\\Temp\\ipykernel_15132\\517509928.py:2: UserWarning: pandas only supports SQLAlchemy connectable (engine/connection) or database string URI or sqlite3 DBAPI2 connection. Other DBAPI2 objects are not tested. Please consider using SQLAlchemy.\n",
            "  avg_sal = pd.read_sql_query(query, connection)\n"
          ]
        },
        {
          "data": {
            "text/html": [
              "<div>\n",
              "<style scoped>\n",
              "    .dataframe tbody tr th:only-of-type {\n",
              "        vertical-align: middle;\n",
              "    }\n",
              "\n",
              "    .dataframe tbody tr th {\n",
              "        vertical-align: top;\n",
              "    }\n",
              "\n",
              "    .dataframe thead th {\n",
              "        text-align: right;\n",
              "    }\n",
              "</style>\n",
              "<table border=\"1\" class=\"dataframe\">\n",
              "  <thead>\n",
              "    <tr style=\"text-align: right;\">\n",
              "      <th></th>\n",
              "      <th>agg</th>\n",
              "      <th>salary_low</th>\n",
              "      <th>salary_up</th>\n",
              "    </tr>\n",
              "  </thead>\n",
              "  <tbody>\n",
              "    <tr>\n",
              "      <th>0</th>\n",
              "      <td>mean</td>\n",
              "      <td>71065.0</td>\n",
              "      <td>110537.0</td>\n",
              "    </tr>\n",
              "    <tr>\n",
              "      <th>1</th>\n",
              "      <td>median</td>\n",
              "      <td>50000.0</td>\n",
              "      <td>80000.0</td>\n",
              "    </tr>\n",
              "  </tbody>\n",
              "</table>\n",
              "</div>"
            ],
            "text/plain": [
              "      agg  salary_low  salary_up\n",
              "0    mean     71065.0   110537.0\n",
              "1  median     50000.0    80000.0"
            ]
          },
          "metadata": {},
          "output_type": "display_data"
        }
      ],
      "source": [
        "# результат запроса\n",
        "avg_sal = pd.read_sql_query(query, connection)\n",
        "display(avg_sal)"
      ]
    },
    {
      "cell_type": "markdown",
      "id": "f3fdaec9-5fd3-4260-9cf5-1d7406b628a5",
      "metadata": {
        "id": "f3fdaec9-5fd3-4260-9cf5-1d7406b628a5"
      },
      "source": [
        "4. Напишите запрос, который выведет количество вакансий для каждого сочетания типа рабочего графика (schedule) и типа трудоустройства (employment), используемого в вакансиях. Результат отсортируйте по убыванию количества.\n"
      ]
    },
    {
      "cell_type": "code",
      "execution_count": 15,
      "id": "1ea710ec-871b-431e-9462-c7d0fd87011b",
      "metadata": {
        "id": "1ea710ec-871b-431e-9462-c7d0fd87011b"
      },
      "outputs": [],
      "source": [
        "# текст запроса\n",
        "query = f'''\n",
        "SELECT\n",
        "    schedule,\n",
        "\temployment,\n",
        "    COUNT(*) cnt\n",
        "FROM\n",
        "    public.vacancies \n",
        "GROUP BY schedule, employment\n",
        "ORDER BY cnt DESC\n",
        "LIMIT 7\n",
        "        '''"
      ]
    },
    {
      "cell_type": "code",
      "execution_count": 16,
      "id": "lGUVqavdo4JQ",
      "metadata": {
        "id": "lGUVqavdo4JQ"
      },
      "outputs": [
        {
          "name": "stderr",
          "output_type": "stream",
          "text": [
            "C:\\Users\\Asus Tuf Gaming\\AppData\\Local\\Temp\\ipykernel_15132\\2219166465.py:3: UserWarning: pandas only supports SQLAlchemy connectable (engine/connection) or database string URI or sqlite3 DBAPI2 connection. Other DBAPI2 objects are not tested. Please consider using SQLAlchemy.\n",
            "  sch_emp = pd.read_sql_query(query, connection)\n"
          ]
        },
        {
          "data": {
            "text/html": [
              "<div>\n",
              "<style scoped>\n",
              "    .dataframe tbody tr th:only-of-type {\n",
              "        vertical-align: middle;\n",
              "    }\n",
              "\n",
              "    .dataframe tbody tr th {\n",
              "        vertical-align: top;\n",
              "    }\n",
              "\n",
              "    .dataframe thead th {\n",
              "        text-align: right;\n",
              "    }\n",
              "</style>\n",
              "<table border=\"1\" class=\"dataframe\">\n",
              "  <thead>\n",
              "    <tr style=\"text-align: right;\">\n",
              "      <th></th>\n",
              "      <th>schedule</th>\n",
              "      <th>employment</th>\n",
              "      <th>cnt</th>\n",
              "    </tr>\n",
              "  </thead>\n",
              "  <tbody>\n",
              "    <tr>\n",
              "      <th>0</th>\n",
              "      <td>Полный день</td>\n",
              "      <td>Полная занятость</td>\n",
              "      <td>35367</td>\n",
              "    </tr>\n",
              "    <tr>\n",
              "      <th>1</th>\n",
              "      <td>Удаленная работа</td>\n",
              "      <td>Полная занятость</td>\n",
              "      <td>7802</td>\n",
              "    </tr>\n",
              "    <tr>\n",
              "      <th>2</th>\n",
              "      <td>Гибкий график</td>\n",
              "      <td>Полная занятость</td>\n",
              "      <td>1593</td>\n",
              "    </tr>\n",
              "    <tr>\n",
              "      <th>3</th>\n",
              "      <td>Удаленная работа</td>\n",
              "      <td>Частичная занятость</td>\n",
              "      <td>1312</td>\n",
              "    </tr>\n",
              "    <tr>\n",
              "      <th>4</th>\n",
              "      <td>Сменный график</td>\n",
              "      <td>Полная занятость</td>\n",
              "      <td>940</td>\n",
              "    </tr>\n",
              "    <tr>\n",
              "      <th>5</th>\n",
              "      <td>Полный день</td>\n",
              "      <td>Стажировка</td>\n",
              "      <td>569</td>\n",
              "    </tr>\n",
              "    <tr>\n",
              "      <th>6</th>\n",
              "      <td>Вахтовый метод</td>\n",
              "      <td>Полная занятость</td>\n",
              "      <td>367</td>\n",
              "    </tr>\n",
              "  </tbody>\n",
              "</table>\n",
              "</div>"
            ],
            "text/plain": [
              "           schedule           employment    cnt\n",
              "0       Полный день     Полная занятость  35367\n",
              "1  Удаленная работа     Полная занятость   7802\n",
              "2     Гибкий график     Полная занятость   1593\n",
              "3  Удаленная работа  Частичная занятость   1312\n",
              "4    Сменный график     Полная занятость    940\n",
              "5       Полный день           Стажировка    569\n",
              "6    Вахтовый метод     Полная занятость    367"
            ]
          },
          "metadata": {},
          "output_type": "display_data"
        }
      ],
      "source": [
        "# результат запроса\n",
        "\n",
        "sch_emp = pd.read_sql_query(query, connection)\n",
        "display(sch_emp)"
      ]
    },
    {
      "cell_type": "markdown",
      "id": "0136ffee-0ead-4a6b-b608-61d1c753a438",
      "metadata": {
        "id": "0136ffee-0ead-4a6b-b608-61d1c753a438"
      },
      "source": [
        "5. Напишите запрос, выводящий значения поля Требуемый опыт работы (experience) в порядке возрастания количества вакансий, в которых указан данный вариант опыта. "
      ]
    },
    {
      "cell_type": "code",
      "execution_count": 17,
      "id": "5b3a8e79-f7ab-4008-b767-12aea3a205ea",
      "metadata": {
        "id": "5b3a8e79-f7ab-4008-b767-12aea3a205ea"
      },
      "outputs": [],
      "source": [
        "# текст запроса\n",
        "query = f'''\n",
        "SELECT\n",
        "    experience,\n",
        "    COUNT(*) cnt,\n",
        "\tROUND(COUNT(*) * 100 / (SUM(COUNT(*)) OVER()))::smallint perc\n",
        "FROM\n",
        "    public.vacancies \n",
        "GROUP BY experience\n",
        "ORDER BY cnt\n",
        "        '''"
      ]
    },
    {
      "cell_type": "code",
      "execution_count": 18,
      "id": "3Is64Y-hpDpq",
      "metadata": {
        "id": "3Is64Y-hpDpq"
      },
      "outputs": [
        {
          "name": "stderr",
          "output_type": "stream",
          "text": [
            "C:\\Users\\Asus Tuf Gaming\\AppData\\Local\\Temp\\ipykernel_15132\\1384565979.py:2: UserWarning: pandas only supports SQLAlchemy connectable (engine/connection) or database string URI or sqlite3 DBAPI2 connection. Other DBAPI2 objects are not tested. Please consider using SQLAlchemy.\n",
            "  exp_vac = pd.read_sql_query(query, connection)\n"
          ]
        },
        {
          "data": {
            "text/html": [
              "<div>\n",
              "<style scoped>\n",
              "    .dataframe tbody tr th:only-of-type {\n",
              "        vertical-align: middle;\n",
              "    }\n",
              "\n",
              "    .dataframe tbody tr th {\n",
              "        vertical-align: top;\n",
              "    }\n",
              "\n",
              "    .dataframe thead th {\n",
              "        text-align: right;\n",
              "    }\n",
              "</style>\n",
              "<table border=\"1\" class=\"dataframe\">\n",
              "  <thead>\n",
              "    <tr style=\"text-align: right;\">\n",
              "      <th></th>\n",
              "      <th>experience</th>\n",
              "      <th>cnt</th>\n",
              "      <th>perc</th>\n",
              "    </tr>\n",
              "  </thead>\n",
              "  <tbody>\n",
              "    <tr>\n",
              "      <th>0</th>\n",
              "      <td>Более 6 лет</td>\n",
              "      <td>1337</td>\n",
              "      <td>3</td>\n",
              "    </tr>\n",
              "    <tr>\n",
              "      <th>1</th>\n",
              "      <td>Нет опыта</td>\n",
              "      <td>7197</td>\n",
              "      <td>15</td>\n",
              "    </tr>\n",
              "    <tr>\n",
              "      <th>2</th>\n",
              "      <td>От 3 до 6 лет</td>\n",
              "      <td>14511</td>\n",
              "      <td>29</td>\n",
              "    </tr>\n",
              "    <tr>\n",
              "      <th>3</th>\n",
              "      <td>От 1 года до 3 лет</td>\n",
              "      <td>26152</td>\n",
              "      <td>53</td>\n",
              "    </tr>\n",
              "  </tbody>\n",
              "</table>\n",
              "</div>"
            ],
            "text/plain": [
              "           experience    cnt  perc\n",
              "0         Более 6 лет   1337     3\n",
              "1           Нет опыта   7197    15\n",
              "2       От 3 до 6 лет  14511    29\n",
              "3  От 1 года до 3 лет  26152    53"
            ]
          },
          "metadata": {},
          "output_type": "display_data"
        }
      ],
      "source": [
        "# результат запроса\n",
        "exp_vac = pd.read_sql_query(query, connection)\n",
        "display(exp_vac)"
      ]
    },
    {
      "cell_type": "markdown",
      "id": "oq2b7n1QpIka",
      "metadata": {
        "id": "oq2b7n1QpIka"
      },
      "source": [
        "***"
      ]
    },
    {
      "attachments": {},
      "cell_type": "markdown",
      "id": "70ff6ceb",
      "metadata": {},
      "source": [
        "#Выводы\n",
        "\n",
        "53% предложений рассчитаны на специалистов с небольшим опытом работы, к ним добавляются 15% вакансий от работодателей, которым нужны самые дешевые исполнители без опыта работы. И только треть позиций подразумевают найм специалистов с опытом работы более 3 лет, т.е. более высокую оплату за наличие ценных компетенций. Возможны два варианта:\n",
        " - работодатели ищут высококвалифицированных специалистов по другим источникам,\n",
        " - ситуация на рынке такова, что клиенты выбирают самые дешевые работы/услуги, не смотря на снижение качества, соответственно, в этих отраслях не нужны дорогие высококвалифицированные кадры. "
      ]
    },
    {
      "cell_type": "code",
      "execution_count": 19,
      "id": "8c63341c",
      "metadata": {},
      "outputs": [
        {
          "name": "stderr",
          "output_type": "stream",
          "text": [
            "C:\\Users\\Asus Tuf Gaming\\AppData\\Local\\Temp\\ipykernel_15132\\1210581701.py:14: UserWarning: pandas only supports SQLAlchemy connectable (engine/connection) or database string URI or sqlite3 DBAPI2 connection. Other DBAPI2 objects are not tested. Please consider using SQLAlchemy.\n",
            "  sal_ar = pd.read_sql_query(query, connection)\n"
          ]
        },
        {
          "name": "stdout",
          "output_type": "stream",
          "text": [
            "Посмотрим как зависит вилка зарплат от региона. Возьмем медиану как показатель, менее зависимый от выбросов:\n"
          ]
        },
        {
          "data": {
            "image/png": "[encoded data removed]",
            "text/plain": [
              "<Figure size 800x400 with 1 Axes>"
            ]
          },
          "metadata": {},
          "output_type": "display_data"
        },
        {
          "name": "stdout",
          "output_type": "stream",
          "text": [
            "И отдельно посмотрим для Москвы разброс предлагаемой зарплаты в зависимости от опыта кандидатов:\n"
          ]
        },
        {
          "name": "stderr",
          "output_type": "stream",
          "text": [
            "C:\\Users\\Asus Tuf Gaming\\AppData\\Local\\Temp\\ipykernel_15132\\1210581701.py:50: UserWarning: pandas only supports SQLAlchemy connectable (engine/connection) or database string URI or sqlite3 DBAPI2 connection. Other DBAPI2 objects are not tested. Please consider using SQLAlchemy.\n",
            "  exp_msc = pd.read_sql_query(query, connection)\n"
          ]
        },
        {
          "data": {
            "image/png": "[encoded data removed]",
            "text/plain": [
              "<Figure size 600x400 with 1 Axes>"
            ]
          },
          "metadata": {},
          "output_type": "display_data"
        }
      ],
      "source": [
        "query = f'''\n",
        "SELECT\n",
        "    CASE WHEN a.name NOT IN ('Москва', 'Санкт-Петербург', 'Минск', 'Новосибирск', 'Алматы') \n",
        "         THEN 'other' ELSE a.name END area,\n",
        "\tCOUNT(*) cnt,\n",
        "    ROUND(PERCENTILE_CONT(0.5) WITHIN GROUP(ORDER BY salary_from)) salary_low,\n",
        "    ROUND(PERCENTILE_CONT(0.5) WITHIN GROUP(ORDER BY salary_to)) salary_up\n",
        "FROM\n",
        "    public.vacancies v\n",
        "\tJOIN areas a ON a.id = v.area_id\n",
        "GROUP BY area\n",
        "ORDER BY cnt DESC\n",
        "        '''\n",
        "sal_ar = pd.read_sql_query(query, connection)\n",
        "print(\"Посмотрим как зависит вилка зарплат от региона. Возьмем медиану как\",\n",
        "      f\"показатель, менее зависимый от выбросов:\")\n",
        "fig = plt.figure(figsize=(8, 4))\n",
        "ax = fig.add_axes([0, 0, 1, 1])\n",
        "ax.bar(\n",
        "    sal_ar['area'],\n",
        "    sal_ar['salary_up'],\n",
        "    width=0.6,\n",
        "    label='upper boundary'\n",
        "    )\n",
        "ax.bar(\n",
        "    sal_ar['area'],\n",
        "    sal_ar['salary_low'],\n",
        "    width=0.6,\n",
        "    label='lower boundary'\n",
        "    )\n",
        "ax.set_title(f'hh.ru\\nВилка предлагаемой заработной платы\\n'\n",
        "               + 'в зависимости от региона (медиана)\\n', \n",
        "               fontsize=16)\n",
        "ax.set_xlabel('город (в порядке убывания количества вакансий)')\n",
        "ax.set_ylabel('предлагаемая заработная плата, руб')\n",
        "ax.legend()\n",
        "ax.grid()\n",
        "plt.show()\n",
        "\n",
        "query = f'''\n",
        "SELECT\n",
        "    experience,\n",
        "    ROUND(PERCENTILE_CONT(0.5) WITHIN GROUP(ORDER BY salary_from)) salary_low,\n",
        "    ROUND(PERCENTILE_CONT(0.5) WITHIN GROUP(ORDER BY salary_to)) salary_up\n",
        "FROM\n",
        "    public.vacancies \n",
        "GROUP BY experience\n",
        "ORDER BY salary_up\n",
        "        '''\n",
        "exp_msc = pd.read_sql_query(query, connection)\n",
        "print(\"И отдельно посмотрим для Москвы разброс предлагаемой зарплаты в зависимости\",\n",
        "      f\"от опыта кандидатов:\")\n",
        "fig = plt.figure(figsize=(6, 4))\n",
        "ax = fig.add_axes([0, 0, 1, 1])\n",
        "ax.bar(\n",
        "    exp_msc['experience'],\n",
        "    exp_msc['salary_up'],\n",
        "    width=0.6,\n",
        "    label='upper boundary'\n",
        "    )\n",
        "ax.bar(\n",
        "    exp_msc['experience'],\n",
        "    exp_msc['salary_low'],\n",
        "    width=0.6,\n",
        "    label='lower boundary'\n",
        "    )\n",
        "ax.set_title(f'hh.ru\\nВилка предлагаемой заработной платы в Москве\\n'\n",
        "               + 'в зависимости от опыта кандидатов (медиана)\\n', \n",
        "               fontsize=16)\n",
        "ax.set_xlabel('требуемый опыт')\n",
        "ax.set_ylabel('предлагаемая заработная плата, руб')\n",
        "ax.legend()\n",
        "ax.grid()\n",
        "plt.show()"
      ]
    },
    {
      "attachments": {},
      "cell_type": "markdown",
      "id": "f4dec54f",
      "metadata": {},
      "source": [
        "Видно, что в Москве нижняя планка по предлагаемой зарплате находится на уровне верхней планки трех других городов-лидеров по количеству открытых вакансий. И если верхняя планка в Новосибирске, Петербурге и Минске практически совпадает, то начинается предложение в Минске от существенно меньших уровней. В старой столице Казахстана верхняя планка по зарплате практически в два раза ниже, чем в столице Беларуси, и почти в три раза ниже, чем в Москве.\n",
        "\n",
        "Рассматривая вилку по заработной плате в зависимости от опыта кандидатов, можем сказать, что получив опыт работы от года до трех лет, соискатель в Москве переходит из диапазона зарплат ниже 50 тысяч рублей, в диапазон, который начинается от 50 тысяч. Но наибольший качественный скачок, по мнению работодателей, происходит при опыте работы от трех до шести лет. Те, кто ищут опытные кадры, поднимают вилку предлагаемых зарплат в два раза по сравнению с предложением менее опытным кандидатам. Для привлечения еще более маститых специалистов компании рассчитывают, видимо, уже не столько на кратное увеличение зарплат, сколько на другие составляющие мотивационного пакета."
      ]
    },
    {
      "cell_type": "markdown",
      "id": "7ea20ab6-04a7-40a0-adec-443a0e5a42c3",
      "metadata": {
        "id": "7ea20ab6-04a7-40a0-adec-443a0e5a42c3"
      },
      "source": [
        "# Юнит 5. Анализ работодателей"
      ]
    },
    {
      "cell_type": "markdown",
      "id": "968aed80-74ef-4ffb-b5bf-c65b84e9caea",
      "metadata": {
        "id": "968aed80-74ef-4ffb-b5bf-c65b84e9caea"
      },
      "source": [
        "1. Напишите запрос, который позволит узнать, какие работодатели находятся на первом и пятом месте по количеству вакансий."
      ]
    },
    {
      "cell_type": "code",
      "execution_count": 20,
      "id": "f2d62796-d400-4ec1-a675-88112739a50e",
      "metadata": {
        "id": "f2d62796-d400-4ec1-a675-88112739a50e"
      },
      "outputs": [],
      "source": [
        "# текст запроса\n",
        "query = f'''\n",
        "WITH x AS\n",
        "(SELECT\n",
        "    e.name employer,\n",
        "\tCOUNT(*) cnt\n",
        "FROM\n",
        "    public.vacancies v\n",
        "\tJOIN employers e ON e.id = v.employer_id\n",
        "GROUP BY employer\n",
        "ORDER BY cnt DESC)\n",
        "(SELECT employer, cnt FROM x\n",
        "LIMIT 1)\n",
        "UNION ALL\n",
        "(SELECT employer, cnt FROM x\n",
        "OFFSET 4\n",
        "LIMIT 1)\n",
        "UNION ALL\n",
        "(SELECT 'всего работодателей', COUNT(*) FROM x)\n",
        "        '''"
      ]
    },
    {
      "cell_type": "code",
      "execution_count": 21,
      "id": "64tOMkAxqkQk",
      "metadata": {
        "id": "64tOMkAxqkQk"
      },
      "outputs": [
        {
          "name": "stderr",
          "output_type": "stream",
          "text": [
            "C:\\Users\\Asus Tuf Gaming\\AppData\\Local\\Temp\\ipykernel_15132\\2595481692.py:2: UserWarning: pandas only supports SQLAlchemy connectable (engine/connection) or database string URI or sqlite3 DBAPI2 connection. Other DBAPI2 objects are not tested. Please consider using SQLAlchemy.\n",
            "  emp_vac = pd.read_sql_query(query, connection)\n"
          ]
        },
        {
          "data": {
            "text/html": [
              "<div>\n",
              "<style scoped>\n",
              "    .dataframe tbody tr th:only-of-type {\n",
              "        vertical-align: middle;\n",
              "    }\n",
              "\n",
              "    .dataframe tbody tr th {\n",
              "        vertical-align: top;\n",
              "    }\n",
              "\n",
              "    .dataframe thead th {\n",
              "        text-align: right;\n",
              "    }\n",
              "</style>\n",
              "<table border=\"1\" class=\"dataframe\">\n",
              "  <thead>\n",
              "    <tr style=\"text-align: right;\">\n",
              "      <th></th>\n",
              "      <th>employer</th>\n",
              "      <th>cnt</th>\n",
              "    </tr>\n",
              "  </thead>\n",
              "  <tbody>\n",
              "    <tr>\n",
              "      <th>0</th>\n",
              "      <td>Яндекс</td>\n",
              "      <td>1933</td>\n",
              "    </tr>\n",
              "    <tr>\n",
              "      <th>1</th>\n",
              "      <td>Газпром нефть</td>\n",
              "      <td>331</td>\n",
              "    </tr>\n",
              "    <tr>\n",
              "      <th>2</th>\n",
              "      <td>всего работодателей</td>\n",
              "      <td>14766</td>\n",
              "    </tr>\n",
              "  </tbody>\n",
              "</table>\n",
              "</div>"
            ],
            "text/plain": [
              "              employer    cnt\n",
              "0               Яндекс   1933\n",
              "1        Газпром нефть    331\n",
              "2  всего работодателей  14766"
            ]
          },
          "metadata": {},
          "output_type": "display_data"
        }
      ],
      "source": [
        "# результат запроса\n",
        "emp_vac = pd.read_sql_query(query, connection)\n",
        "display(emp_vac)"
      ]
    },
    {
      "cell_type": "markdown",
      "id": "68377cfc-b378-43dc-ab7d-1195abf2c515",
      "metadata": {
        "id": "68377cfc-b378-43dc-ab7d-1195abf2c515"
      },
      "source": [
        "2. Напишите запрос, который для каждого региона выведет количество работодателей и вакансий в нём.\n",
        "Среди регионов, в которых нет вакансий, найдите тот, в котором наибольшее количество работодателей.\n"
      ]
    },
    {
      "cell_type": "code",
      "execution_count": 22,
      "id": "dd7df27a-e3e8-412e-a21a-5d389b71e891",
      "metadata": {
        "id": "dd7df27a-e3e8-412e-a21a-5d389b71e891"
      },
      "outputs": [],
      "source": [
        "# текст запроса\n",
        "query = f'''\n",
        "WITH vac AS\n",
        "(SELECT                         -- Подзапрос: вакансии по регионам\n",
        "    a.name area,\n",
        "    COUNT(v.id) vacancies\n",
        "FROM\n",
        "    areas a \n",
        "    LEFT JOIN vacancies v ON a.id = v.area_id\n",
        "GROUP BY a.name),\n",
        "emp AS\n",
        "(SELECT                         -- Подзапрос: работодатели по регионам\n",
        "    a.name area,\n",
        "    COUNT(e.id) employers\n",
        "FROM\n",
        "    areas a \n",
        "    LEFT JOIN employers e ON a.id = e.area\n",
        "GROUP BY a.name)\n",
        "SELECT area\n",
        "FROM vac JOIN emp USING(area)\n",
        "WHERE vacancies = 0\n",
        "ORDER BY employers DESC\n",
        "LIMIT 10\n",
        "        '''"
      ]
    },
    {
      "cell_type": "code",
      "execution_count": 23,
      "id": "x1ikWbydrbf6",
      "metadata": {
        "id": "x1ikWbydrbf6"
      },
      "outputs": [
        {
          "name": "stderr",
          "output_type": "stream",
          "text": [
            "C:\\Users\\Asus Tuf Gaming\\AppData\\Local\\Temp\\ipykernel_15132\\219811783.py:2: UserWarning: pandas only supports SQLAlchemy connectable (engine/connection) or database string URI or sqlite3 DBAPI2 connection. Other DBAPI2 objects are not tested. Please consider using SQLAlchemy.\n",
            "  ar_emp_vac = pd.read_sql_query(query, connection)\n"
          ]
        },
        {
          "data": {
            "text/html": [
              "<div>\n",
              "<style scoped>\n",
              "    .dataframe tbody tr th:only-of-type {\n",
              "        vertical-align: middle;\n",
              "    }\n",
              "\n",
              "    .dataframe tbody tr th {\n",
              "        vertical-align: top;\n",
              "    }\n",
              "\n",
              "    .dataframe thead th {\n",
              "        text-align: right;\n",
              "    }\n",
              "</style>\n",
              "<table border=\"1\" class=\"dataframe\">\n",
              "  <thead>\n",
              "    <tr style=\"text-align: right;\">\n",
              "      <th></th>\n",
              "      <th>area</th>\n",
              "    </tr>\n",
              "  </thead>\n",
              "  <tbody>\n",
              "    <tr>\n",
              "      <th>0</th>\n",
              "      <td>Россия</td>\n",
              "    </tr>\n",
              "    <tr>\n",
              "      <th>1</th>\n",
              "      <td>Казахстан</td>\n",
              "    </tr>\n",
              "    <tr>\n",
              "      <th>2</th>\n",
              "      <td>Московская область</td>\n",
              "    </tr>\n",
              "    <tr>\n",
              "      <th>3</th>\n",
              "      <td>Краснодарский край</td>\n",
              "    </tr>\n",
              "    <tr>\n",
              "      <th>4</th>\n",
              "      <td>Ростовская область</td>\n",
              "    </tr>\n",
              "    <tr>\n",
              "      <th>5</th>\n",
              "      <td>Беларусь</td>\n",
              "    </tr>\n",
              "    <tr>\n",
              "      <th>6</th>\n",
              "      <td>Азербайджан</td>\n",
              "    </tr>\n",
              "    <tr>\n",
              "      <th>7</th>\n",
              "      <td>Нижегородская область</td>\n",
              "    </tr>\n",
              "    <tr>\n",
              "      <th>8</th>\n",
              "      <td>Республика Татарстан</td>\n",
              "    </tr>\n",
              "    <tr>\n",
              "      <th>9</th>\n",
              "      <td>Узбекистан</td>\n",
              "    </tr>\n",
              "  </tbody>\n",
              "</table>\n",
              "</div>"
            ],
            "text/plain": [
              "                    area\n",
              "0                 Россия\n",
              "1              Казахстан\n",
              "2     Московская область\n",
              "3     Краснодарский край\n",
              "4     Ростовская область\n",
              "5               Беларусь\n",
              "6            Азербайджан\n",
              "7  Нижегородская область\n",
              "8   Республика Татарстан\n",
              "9             Узбекистан"
            ]
          },
          "metadata": {},
          "output_type": "display_data"
        }
      ],
      "source": [
        "# результат запроса\n",
        "ar_emp_vac = pd.read_sql_query(query, connection)\n",
        "display(ar_emp_vac)"
      ]
    },
    {
      "cell_type": "markdown",
      "id": "f2fe0acb-ab1a-4e15-9326-2560e22d73c1",
      "metadata": {
        "id": "f2fe0acb-ab1a-4e15-9326-2560e22d73c1"
      },
      "source": [
        "3. Для каждого работодателя посчитайте количество регионов, в которых он публикует свои вакансии. Отсортируйте результат по убыванию количества.\n"
      ]
    },
    {
      "cell_type": "code",
      "execution_count": 24,
      "id": "6271f8ad-bd2e-4196-ae4a-5b39c4c1010e",
      "metadata": {
        "id": "6271f8ad-bd2e-4196-ae4a-5b39c4c1010e"
      },
      "outputs": [],
      "source": [
        "# текст запроса\n",
        "query = f'''\n",
        "SELECT\n",
        "    e.name employers,\n",
        "    COUNT(DISTINCT a.id) areas\n",
        "FROM\n",
        "    employers e \n",
        "    LEFT JOIN vacancies v ON e.id = v.employer_id\n",
        "\tLEFT JOIN areas a ON a.id = v.area_id\n",
        "GROUP BY e.name\n",
        "ORDER BY areas DESC\t\n",
        "LIMIT 10\n",
        "        '''"
      ]
    },
    {
      "cell_type": "code",
      "execution_count": 25,
      "id": "1EIvX3HasH4F",
      "metadata": {
        "id": "1EIvX3HasH4F"
      },
      "outputs": [
        {
          "name": "stderr",
          "output_type": "stream",
          "text": [
            "C:\\Users\\Asus Tuf Gaming\\AppData\\Local\\Temp\\ipykernel_15132\\341891852.py:2: UserWarning: pandas only supports SQLAlchemy connectable (engine/connection) or database string URI or sqlite3 DBAPI2 connection. Other DBAPI2 objects are not tested. Please consider using SQLAlchemy.\n",
            "  emp_ar = pd.read_sql_query(query, connection)\n"
          ]
        },
        {
          "data": {
            "text/html": [
              "<div>\n",
              "<style scoped>\n",
              "    .dataframe tbody tr th:only-of-type {\n",
              "        vertical-align: middle;\n",
              "    }\n",
              "\n",
              "    .dataframe tbody tr th {\n",
              "        vertical-align: top;\n",
              "    }\n",
              "\n",
              "    .dataframe thead th {\n",
              "        text-align: right;\n",
              "    }\n",
              "</style>\n",
              "<table border=\"1\" class=\"dataframe\">\n",
              "  <thead>\n",
              "    <tr style=\"text-align: right;\">\n",
              "      <th></th>\n",
              "      <th>employers</th>\n",
              "      <th>areas</th>\n",
              "    </tr>\n",
              "  </thead>\n",
              "  <tbody>\n",
              "    <tr>\n",
              "      <th>0</th>\n",
              "      <td>Яндекс</td>\n",
              "      <td>181</td>\n",
              "    </tr>\n",
              "    <tr>\n",
              "      <th>1</th>\n",
              "      <td>Ростелеком</td>\n",
              "      <td>152</td>\n",
              "    </tr>\n",
              "    <tr>\n",
              "      <th>2</th>\n",
              "      <td>Спецремонт</td>\n",
              "      <td>116</td>\n",
              "    </tr>\n",
              "    <tr>\n",
              "      <th>3</th>\n",
              "      <td>Поляков Денис Иванович</td>\n",
              "      <td>88</td>\n",
              "    </tr>\n",
              "    <tr>\n",
              "      <th>4</th>\n",
              "      <td>ООО ЕФИН</td>\n",
              "      <td>71</td>\n",
              "    </tr>\n",
              "    <tr>\n",
              "      <th>5</th>\n",
              "      <td>Совкомбанк</td>\n",
              "      <td>63</td>\n",
              "    </tr>\n",
              "    <tr>\n",
              "      <th>6</th>\n",
              "      <td>МТС</td>\n",
              "      <td>55</td>\n",
              "    </tr>\n",
              "    <tr>\n",
              "      <th>7</th>\n",
              "      <td>ЭФКО, Управляющая компания</td>\n",
              "      <td>49</td>\n",
              "    </tr>\n",
              "    <tr>\n",
              "      <th>8</th>\n",
              "      <td>Почта России</td>\n",
              "      <td>48</td>\n",
              "    </tr>\n",
              "    <tr>\n",
              "      <th>9</th>\n",
              "      <td>КРОН</td>\n",
              "      <td>48</td>\n",
              "    </tr>\n",
              "  </tbody>\n",
              "</table>\n",
              "</div>"
            ],
            "text/plain": [
              "                    employers  areas\n",
              "0                      Яндекс    181\n",
              "1                  Ростелеком    152\n",
              "2                  Спецремонт    116\n",
              "3      Поляков Денис Иванович     88\n",
              "4                   ООО ЕФИН      71\n",
              "5                  Совкомбанк     63\n",
              "6                         МТС     55\n",
              "7  ЭФКО, Управляющая компания     49\n",
              "8                Почта России     48\n",
              "9                        КРОН     48"
            ]
          },
          "metadata": {},
          "output_type": "display_data"
        }
      ],
      "source": [
        "# результат запроса\n",
        "emp_ar = pd.read_sql_query(query, connection)\n",
        "display(emp_ar)"
      ]
    },
    {
      "cell_type": "markdown",
      "id": "eab2206d-d95b-468b-8e5f-34381abf0ce7",
      "metadata": {
        "id": "eab2206d-d95b-468b-8e5f-34381abf0ce7"
      },
      "source": [
        "4. Напишите запрос для подсчёта количества работодателей, у которых не указана сфера деятельности. "
      ]
    },
    {
      "cell_type": "code",
      "execution_count": 26,
      "id": "80defb23-bfb1-4a18-8be6-bf36aa7165d5",
      "metadata": {
        "id": "80defb23-bfb1-4a18-8be6-bf36aa7165d5"
      },
      "outputs": [],
      "source": [
        "# текст запроса\n",
        "query = f'''\n",
        "SELECT COUNT(*) employers_no_industries FROM\n",
        "(SELECT\n",
        "    e.name employers,\n",
        "    COUNT(i.industry_id) industries\n",
        "FROM\n",
        "    employers e \n",
        "    LEFT JOIN employers_industries i ON e.id = i.employer_id\n",
        "GROUP BY e.id\n",
        "HAVING COUNT(i.industry_id) = 0) employers_no_industries\n",
        "        '''"
      ]
    },
    {
      "cell_type": "code",
      "execution_count": 27,
      "id": "Dp_yCx6ysQSu",
      "metadata": {
        "id": "Dp_yCx6ysQSu"
      },
      "outputs": [
        {
          "name": "stderr",
          "output_type": "stream",
          "text": [
            "C:\\Users\\Asus Tuf Gaming\\AppData\\Local\\Temp\\ipykernel_15132\\4234528031.py:2: UserWarning: pandas only supports SQLAlchemy connectable (engine/connection) or database string URI or sqlite3 DBAPI2 connection. Other DBAPI2 objects are not tested. Please consider using SQLAlchemy.\n",
            "  emp_ind = pd.read_sql_query(query, connection)\n"
          ]
        },
        {
          "data": {
            "text/html": [
              "<div>\n",
              "<style scoped>\n",
              "    .dataframe tbody tr th:only-of-type {\n",
              "        vertical-align: middle;\n",
              "    }\n",
              "\n",
              "    .dataframe tbody tr th {\n",
              "        vertical-align: top;\n",
              "    }\n",
              "\n",
              "    .dataframe thead th {\n",
              "        text-align: right;\n",
              "    }\n",
              "</style>\n",
              "<table border=\"1\" class=\"dataframe\">\n",
              "  <thead>\n",
              "    <tr style=\"text-align: right;\">\n",
              "      <th></th>\n",
              "      <th>employers_no_industries</th>\n",
              "    </tr>\n",
              "  </thead>\n",
              "  <tbody>\n",
              "    <tr>\n",
              "      <th>0</th>\n",
              "      <td>8419</td>\n",
              "    </tr>\n",
              "  </tbody>\n",
              "</table>\n",
              "</div>"
            ],
            "text/plain": [
              "   employers_no_industries\n",
              "0                     8419"
            ]
          },
          "metadata": {},
          "output_type": "display_data"
        }
      ],
      "source": [
        "# результат запроса\n",
        "emp_ind = pd.read_sql_query(query, connection)\n",
        "display(emp_ind)"
      ]
    },
    {
      "cell_type": "markdown",
      "id": "0112af31-f6b0-4e3b-82ab-71296e752e5e",
      "metadata": {
        "id": "0112af31-f6b0-4e3b-82ab-71296e752e5e"
      },
      "source": [
        "5. Напишите запрос, чтобы узнать название компании, находящейся на третьем месте в алфавитном списке (по названию) компаний, у которых указано четыре сферы деятельности. "
      ]
    },
    {
      "cell_type": "code",
      "execution_count": 28,
      "id": "973b0cfc-a972-470a-8b4a-68744ef220c4",
      "metadata": {
        "id": "973b0cfc-a972-470a-8b4a-68744ef220c4"
      },
      "outputs": [],
      "source": [
        "# текст запроса\n",
        "query = f'''\n",
        "SELECT\n",
        "    e.name employers\n",
        "FROM\n",
        "    employers e \n",
        "    JOIN employers_industries i ON e.id = i.employer_id\n",
        "GROUP BY e.id\n",
        "HAVING COUNT(i.industry_id) = 4\n",
        "ORDER BY employers\n",
        "OFFSET 2\n",
        "LIMIT 1\n",
        "        '''"
      ]
    },
    {
      "cell_type": "code",
      "execution_count": 29,
      "id": "xsPtpp8EsaED",
      "metadata": {
        "id": "xsPtpp8EsaED"
      },
      "outputs": [
        {
          "name": "stderr",
          "output_type": "stream",
          "text": [
            "C:\\Users\\Asus Tuf Gaming\\AppData\\Local\\Temp\\ipykernel_15132\\231780726.py:2: UserWarning: pandas only supports SQLAlchemy connectable (engine/connection) or database string URI or sqlite3 DBAPI2 connection. Other DBAPI2 objects are not tested. Please consider using SQLAlchemy.\n",
            "  emp_four = pd.read_sql_query(query, connection)\n"
          ]
        },
        {
          "data": {
            "text/html": [
              "<div>\n",
              "<style scoped>\n",
              "    .dataframe tbody tr th:only-of-type {\n",
              "        vertical-align: middle;\n",
              "    }\n",
              "\n",
              "    .dataframe tbody tr th {\n",
              "        vertical-align: top;\n",
              "    }\n",
              "\n",
              "    .dataframe thead th {\n",
              "        text-align: right;\n",
              "    }\n",
              "</style>\n",
              "<table border=\"1\" class=\"dataframe\">\n",
              "  <thead>\n",
              "    <tr style=\"text-align: right;\">\n",
              "      <th></th>\n",
              "      <th>employers</th>\n",
              "    </tr>\n",
              "  </thead>\n",
              "  <tbody>\n",
              "    <tr>\n",
              "      <th>0</th>\n",
              "      <td>2ГИС</td>\n",
              "    </tr>\n",
              "  </tbody>\n",
              "</table>\n",
              "</div>"
            ],
            "text/plain": [
              "  employers\n",
              "0      2ГИС"
            ]
          },
          "metadata": {},
          "output_type": "display_data"
        }
      ],
      "source": [
        "# результат запроса\n",
        "emp_four = pd.read_sql_query(query, connection)\n",
        "display(emp_four)"
      ]
    },
    {
      "cell_type": "markdown",
      "id": "3bfcfdaf-755d-4d2b-8ed8-326201dc07ab",
      "metadata": {
        "id": "3bfcfdaf-755d-4d2b-8ed8-326201dc07ab"
      },
      "source": [
        "6. С помощью запроса выясните, у какого количества работодателей в качестве сферы деятельности указана Разработка программного обеспечения.\n"
      ]
    },
    {
      "cell_type": "code",
      "execution_count": 30,
      "id": "ad3f270f-2991-47eb-929b-e8f88a55b0d1",
      "metadata": {
        "id": "ad3f270f-2991-47eb-929b-e8f88a55b0d1"
      },
      "outputs": [],
      "source": [
        "# текст запроса\n",
        "query = f'''\n",
        "SELECT COUNT(*) employers_po FROM\n",
        "(SELECT\n",
        "    DISTINCT i.employer_id\n",
        "FROM\n",
        "    employers_industries i\n",
        "    JOIN industries inm ON inm.id = i.industry_id \n",
        "            AND inm.name = 'Разработка программного обеспечения'\n",
        ") emp_po\n",
        "        '''"
      ]
    },
    {
      "cell_type": "code",
      "execution_count": 31,
      "id": "H72qxWM0shPR",
      "metadata": {
        "id": "H72qxWM0shPR"
      },
      "outputs": [
        {
          "name": "stderr",
          "output_type": "stream",
          "text": [
            "C:\\Users\\Asus Tuf Gaming\\AppData\\Local\\Temp\\ipykernel_15132\\623047527.py:2: UserWarning: pandas only supports SQLAlchemy connectable (engine/connection) or database string URI or sqlite3 DBAPI2 connection. Other DBAPI2 objects are not tested. Please consider using SQLAlchemy.\n",
            "  emp_po = pd.read_sql_query(query, connection)\n"
          ]
        },
        {
          "data": {
            "text/html": [
              "<div>\n",
              "<style scoped>\n",
              "    .dataframe tbody tr th:only-of-type {\n",
              "        vertical-align: middle;\n",
              "    }\n",
              "\n",
              "    .dataframe tbody tr th {\n",
              "        vertical-align: top;\n",
              "    }\n",
              "\n",
              "    .dataframe thead th {\n",
              "        text-align: right;\n",
              "    }\n",
              "</style>\n",
              "<table border=\"1\" class=\"dataframe\">\n",
              "  <thead>\n",
              "    <tr style=\"text-align: right;\">\n",
              "      <th></th>\n",
              "      <th>employers_po</th>\n",
              "    </tr>\n",
              "  </thead>\n",
              "  <tbody>\n",
              "    <tr>\n",
              "      <th>0</th>\n",
              "      <td>3553</td>\n",
              "    </tr>\n",
              "  </tbody>\n",
              "</table>\n",
              "</div>"
            ],
            "text/plain": [
              "   employers_po\n",
              "0          3553"
            ]
          },
          "metadata": {},
          "output_type": "display_data"
        }
      ],
      "source": [
        "# результат запроса\n",
        "emp_po = pd.read_sql_query(query, connection)\n",
        "display(emp_po)"
      ]
    },
    {
      "cell_type": "markdown",
      "id": "7b02bb86-0546-40fb-94a4-242f050a5c57",
      "metadata": {
        "id": "7b02bb86-0546-40fb-94a4-242f050a5c57"
      },
      "source": [
        "7. Для компании «Яндекс» выведите список регионов-миллионников, в которых представлены вакансии компании, вместе с количеством вакансий в этих регионах. Также добавьте строку Total с общим количеством вакансий компании. Результат отсортируйте по возрастанию количества.\n",
        "\n",
        "Список городов-милионников надо взять [отсюда](https://ru.wikipedia.org/wiki/%D0%93%D0%BE%D1%80%D0%BE%D0%B4%D0%B0-%D0%BC%D0%B8%D0%BB%D0%BB%D0%B8%D0%BE%D0%BD%D0%B5%D1%80%D1%8B_%D0%A0%D0%BE%D1%81%D1%81%D0%B8%D0%B8). \n",
        "\n",
        "Если возникнут трудности с этим задание посмотрите материалы модуля  PYTHON-17. Как получать данные из веб-источников и API. "
      ]
    },
    {
      "cell_type": "code",
      "execution_count": 32,
      "id": "ZdfrL6gIs1Pn",
      "metadata": {
        "id": "ZdfrL6gIs1Pn"
      },
      "outputs": [
        {
          "name": "stdout",
          "output_type": "stream",
          "text": [
            "получен ответ True\n",
            "{'Ростов-на-Дону', 'Омск', 'Воронеж', 'Новосибирск', 'Пермь', 'Санкт-Петербург', 'Челябинск', 'Краснодар', 'Уфа', 'Москва', 'Екатеринбург', 'Красноярск', 'Волгоград', 'Казань', 'Нижний Новгород', 'Самара'}\n"
          ]
        }
      ],
      "source": [
        "# код для получения списка городов-милионников\n",
        "#Для упрощения поиска обратимся не к самой статье Википедии, \n",
        "# а к примененному в ней шаблону:\n",
        "req = requests.get('https://ru.wikipedia.org/wiki/%D0%A8%D0%B0%D0%B1%D0%BB%D0%BE%D0%BD:%D0%93%D0%BE%D1%80%D0%BE%D0%B4%D0%B0-%D0%BC%D0%B8%D0%BB%D0%BB%D0%B8%D0%BE%D0%BD%D0%B5%D1%80%D1%8B_%D0%A0%D0%BE%D1%81%D1%81%D0%B8%D0%B8')\n",
        "print(\"получен ответ\", req.status_code == 200)\n",
        "wiki = BeautifulSoup(req.text, 'html.parser')\n",
        "cities = set()\n",
        "navcont = wiki.find('div', class_='NavContent')\n",
        "for a in navcont.find_all('a'):\n",
        "    cities.add(a.text)\n",
        "print(cities)"
      ]
    },
    {
      "cell_type": "code",
      "execution_count": 33,
      "id": "5a0e32a4-e68a-4365-8a39-2fe24c542c36",
      "metadata": {
        "id": "5a0e32a4-e68a-4365-8a39-2fe24c542c36"
      },
      "outputs": [],
      "source": [
        "# текст запроса\n",
        "query = f'''\n",
        "WITH ya AS (SELECT id FROM employers WHERE name='Яндекс'),  -- id Яндекса\n",
        "cities AS (SELECT id, name FROM areas                       -- id городов-миллионников\n",
        "\t\t   WHERE name IN {tuple(_ for _ in cities)}),   -- Передаем полученное множество через итератор\n",
        "vac AS (SELECT                   -- Подзапрос: количество вакансий в городах с предложениями от Яндекса\n",
        "    c.name cities,\n",
        "    COUNT(v.id)::int vacancies\n",
        "FROM\n",
        "    vacancies v \n",
        "\tJOIN ya ON ya.id = v.employer_id\n",
        "    JOIN cities c ON c.id = v.area_id\n",
        "GROUP BY c.name\n",
        "ORDER BY vacancies)\n",
        "SELECT * FROM vac\n",
        "UNION ALL\n",
        "SELECT 'Total', SUM(vacancies) FROM vac\n",
        "UNION ALL\n",
        "SELECT 'Mean', SUM(vacancies)/COUNT(*) FROM vac\n",
        "        '''"
      ]
    },
    {
      "cell_type": "code",
      "execution_count": 34,
      "id": "ttPhiO1rsvPq",
      "metadata": {
        "id": "ttPhiO1rsvPq"
      },
      "outputs": [
        {
          "name": "stderr",
          "output_type": "stream",
          "text": [
            "C:\\Users\\Asus Tuf Gaming\\AppData\\Local\\Temp\\ipykernel_15132\\3842282596.py:2: UserWarning: pandas only supports SQLAlchemy connectable (engine/connection) or database string URI or sqlite3 DBAPI2 connection. Other DBAPI2 objects are not tested. Please consider using SQLAlchemy.\n",
            "  ya_vac = pd.read_sql_query(query, connection)\n"
          ]
        },
        {
          "data": {
            "text/html": [
              "<div>\n",
              "<style scoped>\n",
              "    .dataframe tbody tr th:only-of-type {\n",
              "        vertical-align: middle;\n",
              "    }\n",
              "\n",
              "    .dataframe tbody tr th {\n",
              "        vertical-align: top;\n",
              "    }\n",
              "\n",
              "    .dataframe thead th {\n",
              "        text-align: right;\n",
              "    }\n",
              "</style>\n",
              "<table border=\"1\" class=\"dataframe\">\n",
              "  <thead>\n",
              "    <tr style=\"text-align: right;\">\n",
              "      <th></th>\n",
              "      <th>cities</th>\n",
              "      <th>vacancies</th>\n",
              "    </tr>\n",
              "  </thead>\n",
              "  <tbody>\n",
              "    <tr>\n",
              "      <th>0</th>\n",
              "      <td>Омск</td>\n",
              "      <td>21</td>\n",
              "    </tr>\n",
              "    <tr>\n",
              "      <th>1</th>\n",
              "      <td>Челябинск</td>\n",
              "      <td>22</td>\n",
              "    </tr>\n",
              "    <tr>\n",
              "      <th>2</th>\n",
              "      <td>Красноярск</td>\n",
              "      <td>23</td>\n",
              "    </tr>\n",
              "    <tr>\n",
              "      <th>3</th>\n",
              "      <td>Волгоград</td>\n",
              "      <td>24</td>\n",
              "    </tr>\n",
              "    <tr>\n",
              "      <th>4</th>\n",
              "      <td>Пермь</td>\n",
              "      <td>25</td>\n",
              "    </tr>\n",
              "    <tr>\n",
              "      <th>5</th>\n",
              "      <td>Казань</td>\n",
              "      <td>25</td>\n",
              "    </tr>\n",
              "    <tr>\n",
              "      <th>6</th>\n",
              "      <td>Ростов-на-Дону</td>\n",
              "      <td>25</td>\n",
              "    </tr>\n",
              "    <tr>\n",
              "      <th>7</th>\n",
              "      <td>Уфа</td>\n",
              "      <td>26</td>\n",
              "    </tr>\n",
              "    <tr>\n",
              "      <th>8</th>\n",
              "      <td>Самара</td>\n",
              "      <td>26</td>\n",
              "    </tr>\n",
              "    <tr>\n",
              "      <th>9</th>\n",
              "      <td>Краснодар</td>\n",
              "      <td>30</td>\n",
              "    </tr>\n",
              "    <tr>\n",
              "      <th>10</th>\n",
              "      <td>Воронеж</td>\n",
              "      <td>32</td>\n",
              "    </tr>\n",
              "    <tr>\n",
              "      <th>11</th>\n",
              "      <td>Новосибирск</td>\n",
              "      <td>35</td>\n",
              "    </tr>\n",
              "    <tr>\n",
              "      <th>12</th>\n",
              "      <td>Нижний Новгород</td>\n",
              "      <td>36</td>\n",
              "    </tr>\n",
              "    <tr>\n",
              "      <th>13</th>\n",
              "      <td>Екатеринбург</td>\n",
              "      <td>39</td>\n",
              "    </tr>\n",
              "    <tr>\n",
              "      <th>14</th>\n",
              "      <td>Санкт-Петербург</td>\n",
              "      <td>42</td>\n",
              "    </tr>\n",
              "    <tr>\n",
              "      <th>15</th>\n",
              "      <td>Москва</td>\n",
              "      <td>54</td>\n",
              "    </tr>\n",
              "    <tr>\n",
              "      <th>16</th>\n",
              "      <td>Total</td>\n",
              "      <td>485</td>\n",
              "    </tr>\n",
              "    <tr>\n",
              "      <th>17</th>\n",
              "      <td>Mean</td>\n",
              "      <td>30</td>\n",
              "    </tr>\n",
              "  </tbody>\n",
              "</table>\n",
              "</div>"
            ],
            "text/plain": [
              "             cities  vacancies\n",
              "0              Омск         21\n",
              "1         Челябинск         22\n",
              "2        Красноярск         23\n",
              "3         Волгоград         24\n",
              "4             Пермь         25\n",
              "5            Казань         25\n",
              "6    Ростов-на-Дону         25\n",
              "7               Уфа         26\n",
              "8            Самара         26\n",
              "9         Краснодар         30\n",
              "10          Воронеж         32\n",
              "11      Новосибирск         35\n",
              "12  Нижний Новгород         36\n",
              "13     Екатеринбург         39\n",
              "14  Санкт-Петербург         42\n",
              "15           Москва         54\n",
              "16            Total        485\n",
              "17             Mean         30"
            ]
          },
          "metadata": {},
          "output_type": "display_data"
        }
      ],
      "source": [
        "# результат запроса\n",
        "ya_vac = pd.read_sql_query(query, connection)\n",
        "display(ya_vac)"
      ]
    },
    {
      "cell_type": "markdown",
      "id": "04966e40-3bc3-4dc8-9ba2-e80580ce3abc",
      "metadata": {
        "id": "04966e40-3bc3-4dc8-9ba2-e80580ce3abc"
      },
      "source": [
        "***"
      ]
    },
    {
      "attachments": {},
      "cell_type": "markdown",
      "id": "6ce9dd76",
      "metadata": {},
      "source": [
        "Всего из 1933 вакансий от Яндекса 485, то есть 1/4, размещены в городах-миллионниках. В среднем на каждый город-миллионник приходится по 30 вакансий от Яндекса."
      ]
    },
    {
      "cell_type": "code",
      "execution_count": 35,
      "id": "8a39f120",
      "metadata": {},
      "outputs": [
        {
          "name": "stdout",
          "output_type": "stream",
          "text": [
            "Посмотрим как относятся к удаленной работе компании, указавшие среди видов деятельности Разработку программного обеспечения:\n"
          ]
        },
        {
          "name": "stderr",
          "output_type": "stream",
          "text": [
            "C:\\Users\\Asus Tuf Gaming\\AppData\\Local\\Temp\\ipykernel_15132\\414184354.py:34: UserWarning: pandas only supports SQLAlchemy connectable (engine/connection) or database string URI or sqlite3 DBAPI2 connection. Other DBAPI2 objects are not tested. Please consider using SQLAlchemy.\n",
            "  rem_po = pd.read_sql_query(query, connection)\n"
          ]
        },
        {
          "data": {
            "text/html": [
              "<div>\n",
              "<style scoped>\n",
              "    .dataframe tbody tr th:only-of-type {\n",
              "        vertical-align: middle;\n",
              "    }\n",
              "\n",
              "    .dataframe tbody tr th {\n",
              "        vertical-align: top;\n",
              "    }\n",
              "\n",
              "    .dataframe thead th {\n",
              "        text-align: right;\n",
              "    }\n",
              "</style>\n",
              "<table border=\"1\" class=\"dataframe\">\n",
              "  <thead>\n",
              "    <tr style=\"text-align: right;\">\n",
              "      <th></th>\n",
              "      <th>schedule</th>\n",
              "      <th>cnt</th>\n",
              "    </tr>\n",
              "  </thead>\n",
              "  <tbody>\n",
              "    <tr>\n",
              "      <th>0</th>\n",
              "      <td>Удаленная работа</td>\n",
              "      <td>3068</td>\n",
              "    </tr>\n",
              "    <tr>\n",
              "      <th>1</th>\n",
              "      <td>Классические виды занятости</td>\n",
              "      <td>9431</td>\n",
              "    </tr>\n",
              "    <tr>\n",
              "      <th>2</th>\n",
              "      <td>Удаленная работа всего</td>\n",
              "      <td>9311</td>\n",
              "    </tr>\n",
              "  </tbody>\n",
              "</table>\n",
              "</div>"
            ],
            "text/plain": [
              "                      schedule   cnt\n",
              "0             Удаленная работа  3068\n",
              "1  Классические виды занятости  9431\n",
              "2       Удаленная работа всего  9311"
            ]
          },
          "metadata": {},
          "output_type": "display_data"
        },
        {
          "name": "stderr",
          "output_type": "stream",
          "text": [
            "C:\\Users\\Asus Tuf Gaming\\AppData\\Local\\Temp\\ipykernel_15132\\414184354.py:60: UserWarning: pandas only supports SQLAlchemy connectable (engine/connection) or database string URI or sqlite3 DBAPI2 connection. Other DBAPI2 objects are not tested. Please consider using SQLAlchemy.\n",
            "  po_oth = pd.read_sql_query(query, connection)\n"
          ]
        },
        {
          "name": "stdout",
          "output_type": "stream",
          "text": [
            "Из всех 9311 предложений удаленной работы 3068, т.е. треть, приходится на вакансии компаний, занимающихся Разработкой программного обеспечения.\n",
            "При этом сами Разработчики ПО размещают в три раза больше вакансий с классическими видами 'присутствия на работе' - 9431, чем предложения работать удаленно.\n",
            "\n",
            "Посмотрим какие еще сферы деятельности указали компании, выбравшие Разработку программного обеспечения как одно из направлений:\n"
          ]
        },
        {
          "data": {
            "text/html": [
              "<div>\n",
              "<style scoped>\n",
              "    .dataframe tbody tr th:only-of-type {\n",
              "        vertical-align: middle;\n",
              "    }\n",
              "\n",
              "    .dataframe tbody tr th {\n",
              "        vertical-align: top;\n",
              "    }\n",
              "\n",
              "    .dataframe thead th {\n",
              "        text-align: right;\n",
              "    }\n",
              "</style>\n",
              "<table border=\"1\" class=\"dataframe\">\n",
              "  <thead>\n",
              "    <tr style=\"text-align: right;\">\n",
              "      <th></th>\n",
              "      <th>cnt</th>\n",
              "      <th>industry</th>\n",
              "    </tr>\n",
              "  </thead>\n",
              "  <tbody>\n",
              "    <tr>\n",
              "      <th>0</th>\n",
              "      <td>3553</td>\n",
              "      <td>Разработка программного обеспечения</td>\n",
              "    </tr>\n",
              "    <tr>\n",
              "      <th>1</th>\n",
              "      <td>1775</td>\n",
              "      <td>Системная интеграция,  автоматизации технологических и бизнес-процессов предприятия, ИТ-консалтинг</td>\n",
              "    </tr>\n",
              "    <tr>\n",
              "      <th>2</th>\n",
              "      <td>845</td>\n",
              "      <td>Интернет-компания (поисковики, платежные системы, соц.сети, информационно-познавательные и развлекательные ресурсы, продвижение сайтов и прочее)</td>\n",
              "    </tr>\n",
              "    <tr>\n",
              "      <th>3</th>\n",
              "      <td>204</td>\n",
              "      <td>Консалтинговые услуги</td>\n",
              "    </tr>\n",
              "    <tr>\n",
              "      <th>4</th>\n",
              "      <td>189</td>\n",
              "      <td>Маркетинговые, рекламные, BTL, дизайнерские, Event-, PR-агентства, организация выставок</td>\n",
              "    </tr>\n",
              "    <tr>\n",
              "      <th>5</th>\n",
              "      <td>93</td>\n",
              "      <td>Электронно-вычислительная, оптическая, контрольно-измерительная техника, радиоэлектроника, автоматика (производство)</td>\n",
              "    </tr>\n",
              "    <tr>\n",
              "      <th>6</th>\n",
              "      <td>66</td>\n",
              "      <td>Производство мультимедиа, контента, редакторская деятельность</td>\n",
              "    </tr>\n",
              "  </tbody>\n",
              "</table>\n",
              "</div>"
            ],
            "text/plain": [
              "    cnt  \\\n",
              "0  3553   \n",
              "1  1775   \n",
              "2   845   \n",
              "3   204   \n",
              "4   189   \n",
              "5    93   \n",
              "6    66   \n",
              "\n",
              "                                                                                                                                           industry  \n",
              "0                                                                                                               Разработка программного обеспечения  \n",
              "1                                                Системная интеграция,  автоматизации технологических и бизнес-процессов предприятия, ИТ-консалтинг  \n",
              "2  Интернет-компания (поисковики, платежные системы, соц.сети, информационно-познавательные и развлекательные ресурсы, продвижение сайтов и прочее)  \n",
              "3                                                                                                                             Консалтинговые услуги  \n",
              "4                                                           Маркетинговые, рекламные, BTL, дизайнерские, Event-, PR-агентства, организация выставок  \n",
              "5                              Электронно-вычислительная, оптическая, контрольно-измерительная техника, радиоэлектроника, автоматика (производство)  \n",
              "6                                                                                     Производство мультимедиа, контента, редакторская деятельность  "
            ]
          },
          "metadata": {},
          "output_type": "display_data"
        },
        {
          "name": "stdout",
          "output_type": "stream",
          "text": [
            "Выделяются вторая и третья позиции, которые перекрываются с разработкой ПО наполовину и на четверть. Другие направления деятельности из верхней части таблицы, хоть и показывают существенно меньше совпадений, также являются логичными параллельными видами деятельности.\n",
            "Интересно, что банки занимают только 19-е место и имеют всего 22 совпадения, хотя в современной России конкуренция заставляет все банки развивать ИТ-направление. \n",
            "Зато ближе к концу списка встречаются совсем неожиданные смежные отрасли, такие как Такси, Мясная и Молочная продукция. Видимо, эти работодатели указывали разработку ПО при размещении вакансии на должность местного ИТ-специалиста, т.е. имели ввиду программирование не для клиентов, а для внутреннего потребления.\n"
          ]
        }
      ],
      "source": [
        "print(\"Посмотрим как относятся к удаленной работе компании, указавшие среди видов\",\n",
        "      f\"деятельности Разработку программного обеспечения:\")\n",
        "query = f'''\n",
        "WITH emp_po AS\n",
        "(SELECT                          -- Подзапрос: id поставщиков, указавших разработку ПО\n",
        "    DISTINCT i.employer_id id\n",
        "FROM\n",
        "    employers_industries i\n",
        "    JOIN industries inm ON inm.id = i.industry_id \n",
        "            AND inm.name = 'Разработка программного обеспечения'), \n",
        "sch AS (SELECT                   -- Подзапрос: тип занятости в вакансиях разработчиков ПО\n",
        "    v.schedule schedule\n",
        "FROM\n",
        "    vacancies v \n",
        "\tJOIN emp_po po ON po.id = v.employer_id)\n",
        "SELECT\n",
        "    'Удаленная работа' schedule,\n",
        "\tCOUNT(*) cnt\n",
        "FROM sch\n",
        "WHERE schedule = 'Удаленная работа'\n",
        "UNION ALL\n",
        "SELECT\n",
        "    'Классические виды занятости' schedule,\n",
        "\tCOUNT(*) cnt\n",
        "FROM sch\n",
        "WHERE schedule <> 'Удаленная работа'\n",
        "UNION ALL\n",
        "SELECT\n",
        "    'Удаленная работа всего' schedule,\n",
        "\tCOUNT(*) cnt\n",
        "FROM vacancies\n",
        "WHERE schedule = 'Удаленная работа'\n",
        "        '''\n",
        "rem_po = pd.read_sql_query(query, connection)\n",
        "display(rem_po)\n",
        "print(f\"Из всех {rem_po['cnt'][2]} предложений удаленной работы {rem_po['cnt'][0]}, т.е.\",\n",
        "      f\"треть, приходится на вакансии компаний, занимающихся Разработкой программного\",\n",
        "      f\"обеспечения.\\nПри этом сами Разработчики ПО размещают в три раза больше вакансий\",\n",
        "      f\"с классическими видами 'присутствия на работе' - {rem_po['cnt'][1]}, чем\",\n",
        "      f\"предложения работать удаленно.\\n\\nПосмотрим какие еще сферы деятельности указали\",\n",
        "      f\"компании, выбравшие Разработку программного обеспечения как одно из направлений:\")\n",
        "query = f'''\n",
        "WITH emp_po AS (SELECT\n",
        "    DISTINCT i.employer_id id\n",
        "FROM\n",
        "    employers_industries i\n",
        "    JOIN industries inm ON inm.id = i.industry_id \n",
        "            AND inm.name = 'Разработка программного обеспечения')\t\n",
        "SELECT\n",
        "    COUNT(*) cnt,\n",
        "    inm.name industry\n",
        "FROM\n",
        "    industries inm\n",
        "\tJOIN employers_industries i ON inm.id = i.industry_id\n",
        "\tJOIN emp_po e ON e.id = i.employer_id \n",
        "GROUP BY inm.name\n",
        "ORDER BY cnt DESC\n",
        "LIMIT 7\n",
        "        '''\n",
        "po_oth = pd.read_sql_query(query, connection)\n",
        "display(po_oth)\n",
        "print(f\"Выделяются вторая и третья позиции, которые перекрываются с разработкой ПО наполовину\",\n",
        "      f\"и на четверть. Другие направления деятельности из верхней части таблицы, хоть и\",\n",
        "      f\"показывают существенно меньше совпадений, также являются логичными параллельными\",\n",
        "      f\"видами деятельности.\\nИнтересно, что банки занимают только 19-е место и имеют всего\",\n",
        "      f\"22 совпадения, хотя в современной России конкуренция заставляет все банки развивать\",\n",
        "      f\"ИТ-направление.\",\n",
        "      f\"\\nЗато ближе к концу списка встречаются совсем неожиданные смежные отрасли, такие как\",\n",
        "      f\"Такси, Мясная и Молочная продукция. Видимо, эти работодатели указывали разработку ПО\",\n",
        "      f\"при размещении вакансии на должность местного ИТ-специалиста, т.е. имели ввиду\",\n",
        "      f\"программирование не для клиентов, а для внутреннего потребления.\")"
      ]
    },
    {
      "cell_type": "markdown",
      "id": "b1ef156a-efcb-49ce-bb23-90763e7f35b2",
      "metadata": {
        "id": "b1ef156a-efcb-49ce-bb23-90763e7f35b2",
        "tags": []
      },
      "source": [
        "# Юнит 6. Предметный анализ"
      ]
    },
    {
      "cell_type": "markdown",
      "id": "b9cd50a0-992d-4988-8463-2b2b1c4629b4",
      "metadata": {
        "id": "b9cd50a0-992d-4988-8463-2b2b1c4629b4"
      },
      "source": [
        "1. Сколько вакансий имеет отношение к данным?\n",
        "\n",
        "Считаем, что вакансия имеет отношение к данным, если в её названии содержатся слова 'data' или 'данн'.\n",
        "\n",
        "*Подсказка: Обратите внимание, что названия вакансий могут быть написаны в любом регистре.* \n"
      ]
    },
    {
      "cell_type": "code",
      "execution_count": 36,
      "id": "54ab0e50-c0f1-47cc-a54b-bc5c8bc363f9",
      "metadata": {
        "id": "54ab0e50-c0f1-47cc-a54b-bc5c8bc363f9"
      },
      "outputs": [],
      "source": [
        "# текст запроса\n",
        "query = f'''\n",
        "SELECT\n",
        "    COUNT(v.name) vacancies\n",
        "FROM\n",
        "    vacancies v \n",
        "WHERE lower(v.name) LIKE '%%data%%' OR lower(v.name) LIKE '%%данн%%'\n",
        "        '''"
      ]
    },
    {
      "cell_type": "code",
      "execution_count": 37,
      "id": "9F1meAqsuUjd",
      "metadata": {
        "id": "9F1meAqsuUjd"
      },
      "outputs": [
        {
          "name": "stderr",
          "output_type": "stream",
          "text": [
            "C:\\Users\\Asus Tuf Gaming\\AppData\\Local\\Temp\\ipykernel_15132\\415835366.py:2: UserWarning: pandas only supports SQLAlchemy connectable (engine/connection) or database string URI or sqlite3 DBAPI2 connection. Other DBAPI2 objects are not tested. Please consider using SQLAlchemy.\n",
            "  vac_dt = pd.read_sql_query(query, connection)\n"
          ]
        },
        {
          "data": {
            "text/html": [
              "<div>\n",
              "<style scoped>\n",
              "    .dataframe tbody tr th:only-of-type {\n",
              "        vertical-align: middle;\n",
              "    }\n",
              "\n",
              "    .dataframe tbody tr th {\n",
              "        vertical-align: top;\n",
              "    }\n",
              "\n",
              "    .dataframe thead th {\n",
              "        text-align: right;\n",
              "    }\n",
              "</style>\n",
              "<table border=\"1\" class=\"dataframe\">\n",
              "  <thead>\n",
              "    <tr style=\"text-align: right;\">\n",
              "      <th></th>\n",
              "      <th>vacancies</th>\n",
              "    </tr>\n",
              "  </thead>\n",
              "  <tbody>\n",
              "    <tr>\n",
              "      <th>0</th>\n",
              "      <td>1771</td>\n",
              "    </tr>\n",
              "  </tbody>\n",
              "</table>\n",
              "</div>"
            ],
            "text/plain": [
              "   vacancies\n",
              "0       1771"
            ]
          },
          "metadata": {},
          "output_type": "display_data"
        }
      ],
      "source": [
        "# результат запроса\n",
        "vac_dt = pd.read_sql_query(query, connection)\n",
        "display(vac_dt)"
      ]
    },
    {
      "cell_type": "markdown",
      "id": "4dea20cb-a36b-474a-a0b9-e08e8e3857a5",
      "metadata": {
        "id": "4dea20cb-a36b-474a-a0b9-e08e8e3857a5"
      },
      "source": [
        "2. Сколько есть подходящих вакансий для начинающего дата-сайентиста? \n",
        "Будем считать вакансиями для дата-сайентистов такие, в названии которых есть хотя бы одно из следующих сочетаний:\n",
        "* 'data scientist'\n",
        "* 'data science'\n",
        "* 'исследователь данных'\n",
        "* 'ML' (здесь не нужно брать вакансии по HTML)\n",
        "* 'machine learning'\n",
        "* 'машинн%обучен%'\n",
        "\n",
        "** В следующих заданиях мы продолжим работать с вакансиями по этому условию.*\n",
        "\n",
        "Считаем вакансиями для специалистов уровня Junior следующие:\n",
        "* в названии есть слово 'junior' *или*\n",
        "* требуемый опыт — Нет опыта *или*\n",
        "* тип трудоустройства — Стажировка.\n",
        " "
      ]
    },
    {
      "cell_type": "code",
      "execution_count": 38,
      "id": "9c61b3c0-bb66-46c9-ae1e-81d3f5752b4a",
      "metadata": {
        "id": "9c61b3c0-bb66-46c9-ae1e-81d3f5752b4a"
      },
      "outputs": [],
      "source": [
        "# текст запроса\n",
        "query = f'''\n",
        "SELECT\n",
        "    COUNT(*)\n",
        "FROM\n",
        "    vacancies\t\n",
        "WHERE (lower(name) LIKE '%%data scien%%'\n",
        "    OR lower(name) LIKE '%%исследователь данных%%'\n",
        "    OR lower(name) similar to  '%%[/|]ml%%'  AND name NOT LIKE '%%HTML%%'\n",
        "    OR lower(name) LIKE '%%machine learning%%' \n",
        "    OR lower(name) LIKE '%%машинн%%обучен%%') AND\n",
        "    (lower(name) LIKE '%%junior%%'\n",
        "    OR experience LIKE '%%Нет опыта%%'\n",
        "    OR employment LIKE '%%Стажировка%%')\n",
        "        '''"
      ]
    },
    {
      "cell_type": "code",
      "execution_count": 39,
      "id": "ZNM-LLYuu1dj",
      "metadata": {
        "id": "ZNM-LLYuu1dj"
      },
      "outputs": [
        {
          "name": "stderr",
          "output_type": "stream",
          "text": [
            "C:\\Users\\Asus Tuf Gaming\\AppData\\Local\\Temp\\ipykernel_15132\\2816904902.py:2: UserWarning: pandas only supports SQLAlchemy connectable (engine/connection) or database string URI or sqlite3 DBAPI2 connection. Other DBAPI2 objects are not tested. Please consider using SQLAlchemy.\n",
            "  ds_jun = pd.read_sql_query(query, connection)\n"
          ]
        },
        {
          "data": {
            "text/html": [
              "<div>\n",
              "<style scoped>\n",
              "    .dataframe tbody tr th:only-of-type {\n",
              "        vertical-align: middle;\n",
              "    }\n",
              "\n",
              "    .dataframe tbody tr th {\n",
              "        vertical-align: top;\n",
              "    }\n",
              "\n",
              "    .dataframe thead th {\n",
              "        text-align: right;\n",
              "    }\n",
              "</style>\n",
              "<table border=\"1\" class=\"dataframe\">\n",
              "  <thead>\n",
              "    <tr style=\"text-align: right;\">\n",
              "      <th></th>\n",
              "      <th>count</th>\n",
              "    </tr>\n",
              "  </thead>\n",
              "  <tbody>\n",
              "    <tr>\n",
              "      <th>0</th>\n",
              "      <td>51</td>\n",
              "    </tr>\n",
              "  </tbody>\n",
              "</table>\n",
              "</div>"
            ],
            "text/plain": [
              "   count\n",
              "0     51"
            ]
          },
          "metadata": {},
          "output_type": "display_data"
        }
      ],
      "source": [
        "# результат запроса\n",
        "ds_jun = pd.read_sql_query(query, connection)\n",
        "display(ds_jun)"
      ]
    },
    {
      "cell_type": "markdown",
      "id": "eedceb80-c5ca-480e-b27a-278dfb8b4438",
      "metadata": {
        "id": "eedceb80-c5ca-480e-b27a-278dfb8b4438"
      },
      "source": [
        "3. Сколько есть вакансий для DS, в которых в качестве ключевого навыка указан SQL или postgres?\n",
        "\n",
        "** Критерии для отнесения вакансии к DS указаны в предыдущем задании.*"
      ]
    },
    {
      "cell_type": "code",
      "execution_count": 40,
      "id": "69621713-0cc5-4f1b-a1d7-bb144fa6148c",
      "metadata": {
        "id": "69621713-0cc5-4f1b-a1d7-bb144fa6148c"
      },
      "outputs": [],
      "source": [
        "# текст запроса\n",
        "query = f'''\n",
        "(SELECT\n",
        "    'SQL & postgres' cat,\n",
        "    COUNT(*) cnt\n",
        "FROM\n",
        "    vacancies\t\n",
        "WHERE (lower(name) LIKE '%%data scien%%'\n",
        "    OR lower(name) LIKE '%%исследователь данных%%'\n",
        "    OR name LIKE '%%ML%%' AND name NOT LIKE '%%HTML%%'\n",
        "    OR lower(name) LIKE '%%machine learning%%' \n",
        "    OR lower(name) LIKE '%%машинн%%обучен%%') AND\n",
        "    (lower(key_skills) LIKE '%%postgres%%'\n",
        "    OR key_skills LIKE '%%SQL%%'))\n",
        "UNION ALL\n",
        "(SELECT\n",
        "    'all DS',\n",
        "    COUNT(*)\n",
        "FROM\n",
        "    vacancies\t\n",
        "WHERE (lower(name) LIKE '%%data scien%%'\n",
        "    OR lower(name) LIKE '%%исследователь данных%%'\n",
        "    OR name LIKE '%%ML%%' AND name NOT LIKE '%%HTML%%'\n",
        "    OR lower(name) LIKE '%%machine learning%%' \n",
        "    OR lower(name) LIKE '%%машинн%%обучен%%'))\n",
        "        '''\n",
        "\n"
      ]
    },
    {
      "cell_type": "code",
      "execution_count": 41,
      "id": "alA8WEAAvGdf",
      "metadata": {
        "id": "alA8WEAAvGdf"
      },
      "outputs": [
        {
          "name": "stderr",
          "output_type": "stream",
          "text": [
            "C:\\Users\\Asus Tuf Gaming\\AppData\\Local\\Temp\\ipykernel_15132\\3703297819.py:3: UserWarning: pandas only supports SQLAlchemy connectable (engine/connection) or database string URI or sqlite3 DBAPI2 connection. Other DBAPI2 objects are not tested. Please consider using SQLAlchemy.\n",
            "  ds_sql = pd.read_sql_query(query, connection)\n"
          ]
        },
        {
          "data": {
            "text/html": [
              "<div>\n",
              "<style scoped>\n",
              "    .dataframe tbody tr th:only-of-type {\n",
              "        vertical-align: middle;\n",
              "    }\n",
              "\n",
              "    .dataframe tbody tr th {\n",
              "        vertical-align: top;\n",
              "    }\n",
              "\n",
              "    .dataframe thead th {\n",
              "        text-align: right;\n",
              "    }\n",
              "</style>\n",
              "<table border=\"1\" class=\"dataframe\">\n",
              "  <thead>\n",
              "    <tr style=\"text-align: right;\">\n",
              "      <th></th>\n",
              "      <th>cat</th>\n",
              "      <th>cnt</th>\n",
              "    </tr>\n",
              "  </thead>\n",
              "  <tbody>\n",
              "    <tr>\n",
              "      <th>0</th>\n",
              "      <td>all DS</td>\n",
              "      <td>482</td>\n",
              "    </tr>\n",
              "    <tr>\n",
              "      <th>1</th>\n",
              "      <td>SQL &amp; postgres</td>\n",
              "      <td>201</td>\n",
              "    </tr>\n",
              "  </tbody>\n",
              "</table>\n",
              "</div>"
            ],
            "text/plain": [
              "              cat  cnt\n",
              "0          all DS  482\n",
              "1  SQL & postgres  201"
            ]
          },
          "metadata": {},
          "output_type": "display_data"
        }
      ],
      "source": [
        "# результат запроса\n",
        "\n",
        "ds_sql = pd.read_sql_query(query, connection)\n",
        "display(ds_sql)"
      ]
    },
    {
      "cell_type": "markdown",
      "id": "1be1e9c6-37cf-4a5f-bfeb-04cab799dc80",
      "metadata": {
        "id": "1be1e9c6-37cf-4a5f-bfeb-04cab799dc80"
      },
      "source": [
        "4. Проверьте, насколько популярен Python в требованиях работодателей к DS.Для этого вычислите количество вакансий, в которых в качестве ключевого навыка указан Python.\n",
        "\n",
        "** Это можно сделать помощью запроса, аналогичного предыдущему.*"
      ]
    },
    {
      "cell_type": "code",
      "execution_count": 42,
      "id": "0036a355-9ccf-4564-8b01-73d8194297e7",
      "metadata": {
        "id": "0036a355-9ccf-4564-8b01-73d8194297e7"
      },
      "outputs": [],
      "source": [
        "# текст запроса\n",
        "query = f'''\n",
        "SELECT\n",
        "    'Python' cat,\n",
        "    COUNT(*) cnt\n",
        "FROM\n",
        "    vacancies\t\n",
        "WHERE (name ilike '%%data scientist%%'\n",
        "    OR name ilike '%%data science%%'\n",
        "    OR name ILIKE '%%исследователь данных%%'\n",
        "    OR name LIKE  '%%ML%%'  AND name NOT ILIKE '%%HTML%%'\n",
        "    OR name ILIKE '%%machine learning%%' \n",
        "    OR name ILIKE '%%машинн%%обучен%%') AND\n",
        "    (lower(key_skills) LIKE '%%python%%')\n",
        "        '''"
      ]
    },
    {
      "cell_type": "code",
      "execution_count": 43,
      "id": "1i-5WyucvQ6v",
      "metadata": {
        "id": "1i-5WyucvQ6v"
      },
      "outputs": [
        {
          "name": "stderr",
          "output_type": "stream",
          "text": [
            "C:\\Users\\Asus Tuf Gaming\\AppData\\Local\\Temp\\ipykernel_15132\\552355667.py:2: UserWarning: pandas only supports SQLAlchemy connectable (engine/connection) or database string URI or sqlite3 DBAPI2 connection. Other DBAPI2 objects are not tested. Please consider using SQLAlchemy.\n",
            "  ds_py = pd.read_sql_query(query, connection)\n"
          ]
        },
        {
          "data": {
            "text/html": [
              "<div>\n",
              "<style scoped>\n",
              "    .dataframe tbody tr th:only-of-type {\n",
              "        vertical-align: middle;\n",
              "    }\n",
              "\n",
              "    .dataframe tbody tr th {\n",
              "        vertical-align: top;\n",
              "    }\n",
              "\n",
              "    .dataframe thead th {\n",
              "        text-align: right;\n",
              "    }\n",
              "</style>\n",
              "<table border=\"1\" class=\"dataframe\">\n",
              "  <thead>\n",
              "    <tr style=\"text-align: right;\">\n",
              "      <th></th>\n",
              "      <th>cat</th>\n",
              "      <th>cnt</th>\n",
              "    </tr>\n",
              "  </thead>\n",
              "  <tbody>\n",
              "    <tr>\n",
              "      <th>0</th>\n",
              "      <td>Python</td>\n",
              "      <td>351</td>\n",
              "    </tr>\n",
              "  </tbody>\n",
              "</table>\n",
              "</div>"
            ],
            "text/plain": [
              "      cat  cnt\n",
              "0  Python  351"
            ]
          },
          "metadata": {},
          "output_type": "display_data"
        }
      ],
      "source": [
        "# результат запроса\n",
        "ds_py = pd.read_sql_query(query, connection)\n",
        "display(ds_py)"
      ]
    },
    {
      "cell_type": "markdown",
      "id": "ec3c8db7-fa21-4a41-a994-1af63742a642",
      "metadata": {
        "id": "ec3c8db7-fa21-4a41-a994-1af63742a642"
      },
      "source": [
        "5. Сколько ключевых навыков в среднем указывают в вакансиях для DS?\n",
        "Ответ округлите до двух знаков после точки-разделителя."
      ]
    },
    {
      "cell_type": "code",
      "execution_count": 44,
      "id": "949132bc-d5b6-4611-8218-0b9a504d74f4",
      "metadata": {
        "id": "949132bc-d5b6-4611-8218-0b9a504d74f4"
      },
      "outputs": [],
      "source": [
        "# текст запроса\n",
        "\n",
        "query = f'''\n",
        "SELECT\n",
        "    COUNT(*) skill,\n",
        "    COUNT(DISTINCT id) vacancy,\n",
        "    ROUND(COUNT(*)::numeric / COUNT(DISTINCT id), 2) avg\n",
        "FROM\n",
        "(SELECT                  -- Подзапрос: id вакансий с key_skills, разделенными по табуляции \n",
        "    id,\n",
        "\tregexp_split_to_table(key_skills, CHR(9)) skill\n",
        "FROM\n",
        "    vacancies\t\n",
        "WHERE (lower(name) LIKE '%%data scientist%%'\n",
        "\tOR lower(name) LIKE '%%data science%%'\n",
        "    OR lower(name) LIKE '%%исследователь данных%%'\n",
        "    OR name LIKE '%%ML%%' AND name NOT LIKE '%%HTML%%'\n",
        "    OR lower(name) LIKE '%%machine learning%%' \n",
        "    OR lower(name) LIKE '%%машинн%%обучен%%')\n",
        "\tAND key_skills IS NOT NULL\n",
        ") skills\n",
        "        '''"
      ]
    },
    {
      "cell_type": "code",
      "execution_count": 45,
      "id": "a3V24Tvmviqk",
      "metadata": {
        "id": "a3V24Tvmviqk"
      },
      "outputs": [
        {
          "name": "stderr",
          "output_type": "stream",
          "text": [
            "C:\\Users\\Asus Tuf Gaming\\AppData\\Local\\Temp\\ipykernel_15132\\2496787381.py:3: UserWarning: pandas only supports SQLAlchemy connectable (engine/connection) or database string URI or sqlite3 DBAPI2 connection. Other DBAPI2 objects are not tested. Please consider using SQLAlchemy.\n",
            "  ds_skl = pd.read_sql_query(query, connection)\n"
          ]
        },
        {
          "data": {
            "text/html": [
              "<div>\n",
              "<style scoped>\n",
              "    .dataframe tbody tr th:only-of-type {\n",
              "        vertical-align: middle;\n",
              "    }\n",
              "\n",
              "    .dataframe tbody tr th {\n",
              "        vertical-align: top;\n",
              "    }\n",
              "\n",
              "    .dataframe thead th {\n",
              "        text-align: right;\n",
              "    }\n",
              "</style>\n",
              "<table border=\"1\" class=\"dataframe\">\n",
              "  <thead>\n",
              "    <tr style=\"text-align: right;\">\n",
              "      <th></th>\n",
              "      <th>skill</th>\n",
              "      <th>vacancy</th>\n",
              "      <th>avg</th>\n",
              "    </tr>\n",
              "  </thead>\n",
              "  <tbody>\n",
              "    <tr>\n",
              "      <th>0</th>\n",
              "      <td>2761</td>\n",
              "      <td>431</td>\n",
              "      <td>6.41</td>\n",
              "    </tr>\n",
              "  </tbody>\n",
              "</table>\n",
              "</div>"
            ],
            "text/plain": [
              "   skill  vacancy   avg\n",
              "0   2761      431  6.41"
            ]
          },
          "metadata": {},
          "output_type": "display_data"
        }
      ],
      "source": [
        "# результат запроса\n",
        "\n",
        "ds_skl = pd.read_sql_query(query, connection)\n",
        "display(ds_skl)"
      ]
    },
    {
      "cell_type": "markdown",
      "id": "1041c17a-ca8f-4543-a0ca-32778914fb00",
      "metadata": {
        "id": "1041c17a-ca8f-4543-a0ca-32778914fb00"
      },
      "source": [
        "6. Напишите запрос, позволяющий вычислить, какую зарплату для DS в **среднем** указывают для каждого типа требуемого опыта (уникальное значение из поля *experience*). \n",
        "\n",
        "При решении задачи примите во внимание следующее:\n",
        "1. Рассматриваем только вакансии, у которых заполнено хотя бы одно из двух полей с зарплатой.\n",
        "2. Если заполнены оба поля с зарплатой, то считаем зарплату по каждой вакансии как сумму двух полей, делённую на 2. Если заполнено только одно из полей, то его и считаем зарплатой по вакансии.\n",
        "3. Если в расчётах участвует null, в результате он тоже даст null (посмотрите, что возвращает запрос select 1 + null). Чтобы избежать этой ситуацию, мы воспользуемся функцией [coalesce](https://postgrespro.ru/docs/postgresql/9.5/functions-conditional#functions-coalesce-nvl-ifnull), которая заменит null на значение, которое мы передадим. Например, посмотрите, что возвращает запрос `select 1 + coalesce(null, 0)`\n",
        "\n",
        "Выясните, на какую зарплату в среднем может рассчитывать дата-сайентист с опытом работы от 3 до 6 лет. Результат округлите до целого числа. "
      ]
    },
    {
      "cell_type": "code",
      "execution_count": 46,
      "id": "6a743d39-5204-48d3-8271-b9f88e68d40e",
      "metadata": {
        "id": "6a743d39-5204-48d3-8271-b9f88e68d40e"
      },
      "outputs": [],
      "source": [
        "# текст запроса\n",
        "query = f'''\n",
        "SELECT\n",
        "    experience,\n",
        "\tAVG(CASE WHEN salary_from IS NULL THEN salary_to\n",
        "\t     WHEN salary_to IS NULL THEN salary_from\n",
        "\t\t ELSE (salary_from + salary_to)/2\n",
        "        END)::integer\n",
        "FROM\n",
        "    vacancies\t\n",
        "WHERE (lower(name) LIKE '%%data scientist%%'\n",
        "\tOR lower(name) LIKE '%%data science%%'\n",
        "    OR lower(name) LIKE '%%исследователь данных%%'\n",
        "    OR name LIKE '%%ML%%' AND name NOT LIKE '%%HTML%%'\n",
        "    OR lower(name) LIKE '%%machine learning%%' \n",
        "    OR lower(name) LIKE '%%машинн%%обучен%%')\n",
        "\tAND (salary_from IS NOT NULL\n",
        "    OR salary_to IS NOT NULL)\n",
        "GROUP BY experience\n",
        "        '''"
      ]
    },
    {
      "cell_type": "code",
      "execution_count": 47,
      "id": "aRIJ0mZEwU1_",
      "metadata": {
        "id": "aRIJ0mZEwU1_"
      },
      "outputs": [
        {
          "name": "stderr",
          "output_type": "stream",
          "text": [
            "C:\\Users\\Asus Tuf Gaming\\AppData\\Local\\Temp\\ipykernel_15132\\2765752637.py:2: UserWarning: pandas only supports SQLAlchemy connectable (engine/connection) or database string URI or sqlite3 DBAPI2 connection. Other DBAPI2 objects are not tested. Please consider using SQLAlchemy.\n",
            "  ds_exp = pd.read_sql_query(query, connection)\n"
          ]
        },
        {
          "data": {
            "text/html": [
              "<div>\n",
              "<style scoped>\n",
              "    .dataframe tbody tr th:only-of-type {\n",
              "        vertical-align: middle;\n",
              "    }\n",
              "\n",
              "    .dataframe tbody tr th {\n",
              "        vertical-align: top;\n",
              "    }\n",
              "\n",
              "    .dataframe thead th {\n",
              "        text-align: right;\n",
              "    }\n",
              "</style>\n",
              "<table border=\"1\" class=\"dataframe\">\n",
              "  <thead>\n",
              "    <tr style=\"text-align: right;\">\n",
              "      <th></th>\n",
              "      <th>experience</th>\n",
              "      <th>avg</th>\n",
              "    </tr>\n",
              "  </thead>\n",
              "  <tbody>\n",
              "    <tr>\n",
              "      <th>0</th>\n",
              "      <td>Нет опыта</td>\n",
              "      <td>74643</td>\n",
              "    </tr>\n",
              "    <tr>\n",
              "      <th>1</th>\n",
              "      <td>От 1 года до 3 лет</td>\n",
              "      <td>139675</td>\n",
              "    </tr>\n",
              "    <tr>\n",
              "      <th>2</th>\n",
              "      <td>От 3 до 6 лет</td>\n",
              "      <td>243115</td>\n",
              "    </tr>\n",
              "  </tbody>\n",
              "</table>\n",
              "</div>"
            ],
            "text/plain": [
              "           experience     avg\n",
              "0           Нет опыта   74643\n",
              "1  От 1 года до 3 лет  139675\n",
              "2       От 3 до 6 лет  243115"
            ]
          },
          "metadata": {},
          "output_type": "display_data"
        }
      ],
      "source": [
        "# результат запроса\n",
        "ds_exp = pd.read_sql_query(query, connection)\n",
        "display(ds_exp)"
      ]
    },
    {
      "attachments": {},
      "cell_type": "markdown",
      "id": "3b0785f5",
      "metadata": {},
      "source": [
        "В среднем дата-сайентисту с опытом работы от 3 до 6 лет компании готовы предложить 243115 рублей.\n",
        "Обратим внимание, что для суперспециалистов с опытом работы более 6 лет ориентиры по зарплате не проставлены ни в одной вакансии, т.к. к специалистам такого уровня подход индивидуальный."
      ]
    },
    {
      "cell_type": "markdown",
      "id": "6a7892b4-4113-4746-adce-18aa2844f18e",
      "metadata": {
        "id": "6a7892b4-4113-4746-adce-18aa2844f18e"
      },
      "source": [
        "***"
      ]
    },
    {
      "cell_type": "code",
      "execution_count": 48,
      "id": "UjLWUptVwY1o",
      "metadata": {
        "id": "UjLWUptVwY1o"
      },
      "outputs": [
        {
          "name": "stderr",
          "output_type": "stream",
          "text": [
            "C:\\Users\\Asus Tuf Gaming\\AppData\\Local\\Temp\\ipykernel_15132\\3526514287.py:94: UserWarning: pandas only supports SQLAlchemy connectable (engine/connection) or database string URI or sqlite3 DBAPI2 connection. Other DBAPI2 objects are not tested. Please consider using SQLAlchemy.\n",
            "  ya_anl = pd.read_sql_query(query, connection)\n"
          ]
        },
        {
          "name": "stdout",
          "output_type": "stream",
          "text": [
            "Посмотрим на распределение вакансий по специальностям у самого крупного работодателя - Яндекса. Для этого введем несколько агрегированных групп: поддержка, тестировщик, разработчик, аналитик, инженер, - и посчитаем общее количество вакансий в группе и сколько запросов в среднем приходится на каждую конкретную вакансию в группе.\n"
          ]
        },
        {
          "ename": "NameError",
          "evalue": "name 'ya_anal' is not defined",
          "output_type": "error",
          "traceback": [
            "\u001b[1;31m---------------------------------------------------------------------------\u001b[0m",
            "\u001b[1;31mNameError\u001b[0m                                 Traceback (most recent call last)",
            "Cell \u001b[1;32mIn [48], line 95\u001b[0m\n\u001b[0;32m      7\u001b[0m query \u001b[39m=\u001b[39m \u001b[39mf\u001b[39m\u001b[39m'''\u001b[39m\n\u001b[0;32m      8\u001b[0m \u001b[39mWITH ya AS (SELECT id FROM employers WHERE name=\u001b[39m\u001b[39m'\u001b[39m\u001b[39mЯндекс\u001b[39m\u001b[39m'\u001b[39m\u001b[39m),\u001b[39m\n\u001b[0;32m      9\u001b[0m \u001b[39mvac AS (SELECT\u001b[39m\n\u001b[1;32m   (...)\u001b[0m\n\u001b[0;32m     92\u001b[0m \u001b[39mORDER BY sum DESC\u001b[39m\n\u001b[0;32m     93\u001b[0m \u001b[39m        \u001b[39m\u001b[39m'''\u001b[39m\n\u001b[0;32m     94\u001b[0m ya_anl \u001b[39m=\u001b[39m pd\u001b[39m.\u001b[39mread_sql_query(query, connection)\n\u001b[1;32m---> 95\u001b[0m display(ya_anal)\n\u001b[0;32m     96\u001b[0m support \u001b[39m=\u001b[39m [\u001b[39m'\u001b[39m\u001b[39mподдержка\u001b[39m\u001b[39m'\u001b[39m, \u001b[39m'\u001b[39m\u001b[39mЭксперт по ответам на вопросы о Яндекс Бизнесе\u001b[39m\u001b[39m'\u001b[39m]\n\u001b[0;32m     97\u001b[0m \u001b[39mprint\u001b[39m(\u001b[39mf\u001b[39m\u001b[39m\"\u001b[39m\u001b[39mИз \u001b[39m\u001b[39m{\u001b[39;00memp_vac[\u001b[39m'\u001b[39m\u001b[39mcnt\u001b[39m\u001b[39m'\u001b[39m][\u001b[39m0\u001b[39m]\u001b[39m}\u001b[39;00m\u001b[39m вакансий, размещенных Яндексом,\u001b[39m\u001b[39m\"\u001b[39m,\n\u001b[0;32m     98\u001b[0m       \u001b[39mf\u001b[39m\u001b[39m\"\u001b[39m\u001b[39m{\u001b[39;00mya_anal[ya_anal[\u001b[39m'\u001b[39m\u001b[39mvacancy\u001b[39m\u001b[39m'\u001b[39m]\u001b[39m.\u001b[39misin(support)][\u001b[39m'\u001b[39m\u001b[39msum\u001b[39m\u001b[39m'\u001b[39m]\u001b[39m.\u001b[39msum()\u001b[39m}\u001b[39;00m\u001b[39m приходится на группу\u001b[39m\u001b[39m\"\u001b[39m,\n\u001b[0;32m     99\u001b[0m       \u001b[39mf\u001b[39m\u001b[39m\"\u001b[39m\u001b[39mподдержки клиентов (собственно поддержка + эксперт по ответам).\u001b[39m\u001b[39m\"\u001b[39m,\n\u001b[1;32m   (...)\u001b[0m\n\u001b[0;32m    105\u001b[0m       \u001b[39mf\u001b[39m\u001b[39m\"\u001b[39m\u001b[39mспециальности, массовыми специальностями в этой группе можно назвать\u001b[39m\u001b[39m\"\u001b[39m,\n\u001b[0;32m    106\u001b[0m       \u001b[39mf\u001b[39m\u001b[39m\"\u001b[39m\u001b[39mтестировщиков и технических писателей.\u001b[39m\u001b[39m\"\u001b[39m)\n",
            "\u001b[1;31mNameError\u001b[0m: name 'ya_anal' is not defined"
          ]
        }
      ],
      "source": [
        "# выводы по предметному анализу\n",
        "print(f\"Посмотрим на распределение вакансий по специальностям у\",\n",
        "      f\"самого крупного работодателя - Яндекса. Для этого введем несколько агрегированных\",\n",
        "      f\"групп: поддержка, тестировщик, разработчик, аналитик, инженер, - и посчитаем\",\n",
        "      f\"общее количество вакансий в группе и сколько запросов в среднем приходится на\",\n",
        "      f\"каждую конкретную вакансию в группе.\")\n",
        "query = f'''\n",
        "WITH ya AS (SELECT id FROM employers WHERE name='Яндекс'),\n",
        "vac AS (SELECT\n",
        "    v.name vacancy,\n",
        "    COUNT(*) cnt\n",
        "FROM\n",
        "    vacancies v\n",
        "\tJOIN ya ON ya.id = employer_id\n",
        "GROUP BY v.name)\n",
        "SELECT\n",
        "    'поддержка' vacancy,\n",
        "    SUM(cnt)::int sum,\n",
        "\tAVG(cnt)::int mean\n",
        "FROM\n",
        "    vac\n",
        "WHERE lower(vacancy) LIKE '%%поддерж%%'\n",
        "    OR lower(vacancy) LIKE '%%клиент%%'\n",
        "    OR lower(vacancy) LIKE '%%менедж%%'\n",
        "UNION ALL\n",
        "SELECT\n",
        "    'разработчик' vacancy,\n",
        "    SUM(cnt)::int,\n",
        "\tAVG(cnt)::int\n",
        "FROM\n",
        "    vac\n",
        "WHERE lower(vacancy) NOT LIKE '%%поддерж%%'\n",
        "    AND lower(vacancy) NOT LIKE '%%клиент%%'\n",
        "    AND lower(vacancy) NOT LIKE '%%менедж%%'\n",
        "\tAND lower(vacancy) LIKE '%%разраб%%'\n",
        "UNION ALL\n",
        "SELECT\n",
        "    'тестировщик' vacancy,\n",
        "    SUM(cnt)::int,\n",
        "\tAVG(cnt)::int\n",
        "FROM\n",
        "    vac\n",
        "WHERE lower(vacancy) NOT LIKE '%%поддерж%%'\n",
        "    AND lower(vacancy) NOT LIKE '%%клиент%%'\n",
        "    AND lower(vacancy) NOT LIKE '%%менедж%%'\n",
        "    AND lower(vacancy) NOT LIKE '%%разраб%%'\n",
        "\tAND lower(vacancy) LIKE '%%тестир%%'\n",
        "UNION ALL\n",
        "SELECT\n",
        "    'инженер' vacancy,\n",
        "    SUM(cnt)::int,\n",
        "\tAVG(cnt)::int\n",
        "FROM\n",
        "    vac\n",
        "WHERE lower(vacancy) NOT LIKE '%%поддерж%%'\n",
        "    AND lower(vacancy) NOT LIKE '%%клиент%%'\n",
        "    AND lower(vacancy) NOT LIKE '%%менедж%%'\n",
        "    AND lower(vacancy) NOT LIKE '%%разраб%%'\n",
        "    AND lower(vacancy) NOT LIKE '%%тестир%%'\n",
        "    AND lower(vacancy) LIKE '%%инженер%%'\n",
        "UNION ALL\n",
        "SELECT\n",
        "    'аналитик' vacancy,\n",
        "    SUM(cnt)::int,\n",
        "\tAVG(cnt)::int\n",
        "FROM\n",
        "    vac\n",
        "WHERE lower(vacancy) NOT LIKE '%%поддерж%%'\n",
        "    AND lower(vacancy) NOT LIKE '%%клиент%%'\n",
        "    AND lower(vacancy) NOT LIKE '%%менедж%%'\n",
        "    AND lower(vacancy) NOT LIKE '%%разраб%%'\n",
        "    AND lower(vacancy) NOT LIKE '%%тестир%%'\n",
        "    AND lower(vacancy) NOT LIKE '%%инженер%%'\n",
        "    AND (lower(vacancy) LIKE '%%анали%%'\n",
        "    OR lower(vacancy) LIKE '%%analy%%')\n",
        "UNION ALL\n",
        "SELECT\n",
        "    vacancy,\n",
        "    SUM(cnt)::int,\n",
        "\tAVG(cnt)::int\n",
        "FROM\n",
        "    vac\n",
        "WHERE lower(vacancy) NOT LIKE '%%поддерж%%'\n",
        "    AND lower(vacancy) NOT LIKE '%%клиент%%'\n",
        "    AND lower(vacancy) NOT LIKE '%%менедж%%'\n",
        "    AND lower(vacancy) NOT LIKE '%%разраб%%'\n",
        "\tAND lower(vacancy) NOT LIKE '%%тестир%%'\n",
        "\tAND lower(vacancy) NOT LIKE '%%инженер%%'\n",
        "\tAND lower(vacancy) NOT LIKE '%%анали%%'\n",
        "\tAND lower(vacancy) NOT LIKE '%%analy%%'\n",
        "GROUP BY vacancy\n",
        "ORDER BY sum DESC\n",
        "        '''\n",
        "ya_anl = pd.read_sql_query(query, connection)\n",
        "display(ya_anal)\n",
        "support = ['поддержка', 'Эксперт по ответам на вопросы о Яндекс Бизнесе']\n",
        "print(f\"Из {emp_vac['cnt'][0]} вакансий, размещенных Яндексом,\",\n",
        "      f\"{ya_anal[ya_anal['vacancy'].isin(support)]['sum'].sum()} приходится на группу\",\n",
        "      f\"поддержки клиентов (собственно поддержка + эксперт по ответам).\",\n",
        "      f\"Судя по среднему количеству запросов по каждому виду вакансий в группе\",\n",
        "      f\"поддержки - это набор на массовые стандартизированные специальности.\\n\",\n",
        "      f\"Соответственно, на усиление команды, создающей продукт, приходится только\",\n",
        "      f\"{round((emp_vac['cnt'][0] - ya_anal[ya_anal['vacancy'].isin(support)]['sum'].sum())/emp_vac['cnt'][0] * 100)}%\",\n",
        "      f\"общего количества размещенных вакансий. Сюда входят различные узконаправленные\",\n",
        "      f\"специальности, массовыми специальностями в этой группе можно назвать\",\n",
        "      f\"тестировщиков и технических писателей.\")"
      ]
    },
    {
      "cell_type": "markdown",
      "id": "c0ED6fh7wiBT",
      "metadata": {
        "id": "c0ED6fh7wiBT"
      },
      "source": [
        "# Общий вывод по проекту"
      ]
    },
    {
      "attachments": {},
      "cell_type": "markdown",
      "id": "616866b5",
      "metadata": {},
      "source": [
        "Видим, что Яндексу - одной из крупнейших ИТ-компаний РФ - требуется только один дата-сайентист.\n",
        "\n",
        "Посмотрим, в каких городах работодатели ждут дата-сайентистов."
      ]
    },
    {
      "cell_type": "code",
      "execution_count": null,
      "id": "h9B3BL-wwj18",
      "metadata": {
        "id": "h9B3BL-wwj18"
      },
      "outputs": [
        {
          "name": "stderr",
          "output_type": "stream",
          "text": [
            "C:\\Users\\Asus Tuf Gaming\\AppData\\Local\\Temp\\ipykernel_16836\\3603053567.py:21: UserWarning: pandas only supports SQLAlchemy connectable (engine/connection) or database string URI or sqlite3 DBAPI2 connection. Other DBAPI2 objects are not tested. Please consider using SQLAlchemy.\n",
            "  ds_ar = pd.read_sql_query(query, connection)\n"
          ]
        },
        {
          "data": {
            "text/html": [
              "<div>\n",
              "<style scoped>\n",
              "    .dataframe tbody tr th:only-of-type {\n",
              "        vertical-align: middle;\n",
              "    }\n",
              "\n",
              "    .dataframe tbody tr th {\n",
              "        vertical-align: top;\n",
              "    }\n",
              "\n",
              "    .dataframe thead th {\n",
              "        text-align: right;\n",
              "    }\n",
              "</style>\n",
              "<table border=\"1\" class=\"dataframe\">\n",
              "  <thead>\n",
              "    <tr style=\"text-align: right;\">\n",
              "      <th></th>\n",
              "      <th>area</th>\n",
              "      <th>cnt</th>\n",
              "      <th>empl</th>\n",
              "    </tr>\n",
              "  </thead>\n",
              "  <tbody>\n",
              "    <tr>\n",
              "      <th>0</th>\n",
              "      <td>Москва</td>\n",
              "      <td>217</td>\n",
              "      <td>130</td>\n",
              "    </tr>\n",
              "    <tr>\n",
              "      <th>1</th>\n",
              "      <td>Санкт-Петербург</td>\n",
              "      <td>64</td>\n",
              "      <td>47</td>\n",
              "    </tr>\n",
              "    <tr>\n",
              "      <th>2</th>\n",
              "      <td>Новосибирск</td>\n",
              "      <td>23</td>\n",
              "      <td>17</td>\n",
              "    </tr>\n",
              "    <tr>\n",
              "      <th>3</th>\n",
              "      <td>Нижний Новгород</td>\n",
              "      <td>20</td>\n",
              "      <td>9</td>\n",
              "    </tr>\n",
              "    <tr>\n",
              "      <th>4</th>\n",
              "      <td>Алматы</td>\n",
              "      <td>17</td>\n",
              "      <td>12</td>\n",
              "    </tr>\n",
              "    <tr>\n",
              "      <th>5</th>\n",
              "      <td>Казань</td>\n",
              "      <td>16</td>\n",
              "      <td>13</td>\n",
              "    </tr>\n",
              "    <tr>\n",
              "      <th>6</th>\n",
              "      <td>Минск</td>\n",
              "      <td>9</td>\n",
              "      <td>9</td>\n",
              "    </tr>\n",
              "    <tr>\n",
              "      <th>7</th>\n",
              "      <td>Томск</td>\n",
              "      <td>8</td>\n",
              "      <td>6</td>\n",
              "    </tr>\n",
              "    <tr>\n",
              "      <th>8</th>\n",
              "      <td>Екатеринбург</td>\n",
              "      <td>7</td>\n",
              "      <td>6</td>\n",
              "    </tr>\n",
              "    <tr>\n",
              "      <th>9</th>\n",
              "      <td>Армения</td>\n",
              "      <td>6</td>\n",
              "      <td>3</td>\n",
              "    </tr>\n",
              "  </tbody>\n",
              "</table>\n",
              "</div>"
            ],
            "text/plain": [
              "              area  cnt  empl\n",
              "0           Москва  217   130\n",
              "1  Санкт-Петербург   64    47\n",
              "2      Новосибирск   23    17\n",
              "3  Нижний Новгород   20     9\n",
              "4           Алматы   17    12\n",
              "5           Казань   16    13\n",
              "6            Минск    9     9\n",
              "7            Томск    8     6\n",
              "8     Екатеринбург    7     6\n",
              "9          Армения    6     3"
            ]
          },
          "metadata": {},
          "output_type": "display_data"
        }
      ],
      "source": [
        "# подведем итог исследования, обобщите выводы\n",
        "# здесь можно (это будет плюсом) провести дополнительные исследования данных, сделать прогнозы, продумать варианты продолжения исследования\n",
        "query = f'''\n",
        "SELECT\n",
        "    a.name area,\n",
        "    COUNT(*) cnt,\n",
        "\tCOUNT(DISTINCT employer_id) empl\n",
        "FROM\n",
        "    vacancies v\t\n",
        "JOIN\n",
        "\tareas a ON a.id = v.area_id\n",
        "WHERE (lower(v.name) LIKE '%%data scien%%'\n",
        "    OR lower(v.name) LIKE '%%исследователь данных%%'\n",
        "    OR v.name LIKE '%%ML%%' AND v.name NOT LIKE '%%HTML%%'\n",
        "    OR lower(v.name) LIKE '%%machine learning%%' \n",
        "    OR lower(v.name) LIKE '%%машинн%%обучен%%')\n",
        "GROUP BY a.name \n",
        "ORDER BY cnt DESC\n",
        "LIMIT 10\n",
        "        '''\n",
        "ds_ar = pd.read_sql_query(query, connection)\n",
        "display(ds_ar)"
      ]
    },
    {
      "attachments": {},
      "cell_type": "markdown",
      "id": "81ec6e92",
      "metadata": {},
      "source": [
        "В топ регионов вошла пятерка городов-лидеров по общему количеству размещенных вакансий. Их разбавили Нижний Новгород и Казань. Но если общее количество вакансий в Москве в 2-2.5 раза превышало количество вакансий других городов-лидеров, то запрос на Data Science в Москве в 3 раза выше чем в Петербурге и уже в 10 раз выше, чем в Новосибирске, Нижнем Новгороде, Алматы. То есть такое новое направление деятельности как Data Science уже начало распространяться в наукоемких регионах, но пока большая его часть сконцентрирована в Москве.\n",
        "\n",
        "Судя по количеству работодателей, разместивших вакансии дата-сайентистов, на каждого работодателя в среднем приходится по 1-2 размещенных вакансии.\n",
        "\n",
        "Посмотрим, какие направления деятельности указали эти компании."
      ]
    },
    {
      "cell_type": "code",
      "execution_count": null,
      "id": "62b05d4c",
      "metadata": {},
      "outputs": [
        {
          "name": "stderr",
          "output_type": "stream",
          "text": [
            "C:\\Users\\Asus Tuf Gaming\\AppData\\Local\\Temp\\ipykernel_16836\\1988894297.py:27: UserWarning: pandas only supports SQLAlchemy connectable (engine/connection) or database string URI or sqlite3 DBAPI2 connection. Other DBAPI2 objects are not tested. Please consider using SQLAlchemy.\n",
            "  ds_ind = pd.read_sql_query(query, connection)\n"
          ]
        },
        {
          "data": {
            "text/html": [
              "<div>\n",
              "<style scoped>\n",
              "    .dataframe tbody tr th:only-of-type {\n",
              "        vertical-align: middle;\n",
              "    }\n",
              "\n",
              "    .dataframe tbody tr th {\n",
              "        vertical-align: top;\n",
              "    }\n",
              "\n",
              "    .dataframe thead th {\n",
              "        text-align: right;\n",
              "    }\n",
              "</style>\n",
              "<table border=\"1\" class=\"dataframe\">\n",
              "  <thead>\n",
              "    <tr style=\"text-align: right;\">\n",
              "      <th></th>\n",
              "      <th>cnt</th>\n",
              "      <th>industry</th>\n",
              "    </tr>\n",
              "  </thead>\n",
              "  <tbody>\n",
              "    <tr>\n",
              "      <th>0</th>\n",
              "      <td>149</td>\n",
              "      <td>Разработка программного обеспечения</td>\n",
              "    </tr>\n",
              "    <tr>\n",
              "      <th>1</th>\n",
              "      <td>140</td>\n",
              "      <td>Системная интеграция,  автоматизации технологических и бизнес-процессов предприятия, ИТ-консалтинг</td>\n",
              "    </tr>\n",
              "    <tr>\n",
              "      <th>2</th>\n",
              "      <td>92</td>\n",
              "      <td>Банк</td>\n",
              "    </tr>\n",
              "    <tr>\n",
              "      <th>3</th>\n",
              "      <td>79</td>\n",
              "      <td>Интернет-компания (поисковики, платежные системы, соц.сети, информационно-познавательные и развлекательные ресурсы, продвижение сайтов и прочее)</td>\n",
              "    </tr>\n",
              "    <tr>\n",
              "      <th>4</th>\n",
              "      <td>23</td>\n",
              "      <td>Мобильная связь</td>\n",
              "    </tr>\n",
              "    <tr>\n",
              "      <th>5</th>\n",
              "      <td>22</td>\n",
              "      <td>Маркетинговые, рекламные, BTL, дизайнерские, Event-, PR-агентства, организация выставок</td>\n",
              "    </tr>\n",
              "    <tr>\n",
              "      <th>6</th>\n",
              "      <td>21</td>\n",
              "      <td>Управляющая, инвестиционная компания (управление активами)</td>\n",
              "    </tr>\n",
              "    <tr>\n",
              "      <th>7</th>\n",
              "      <td>16</td>\n",
              "      <td>Консалтинговые услуги</td>\n",
              "    </tr>\n",
              "    <tr>\n",
              "      <th>8</th>\n",
              "      <td>13</td>\n",
              "      <td>Фиксированная связь</td>\n",
              "    </tr>\n",
              "    <tr>\n",
              "      <th>9</th>\n",
              "      <td>9</td>\n",
              "      <td>Научно-исследовательская, научная, академическая деятельность</td>\n",
              "    </tr>\n",
              "    <tr>\n",
              "      <th>10</th>\n",
              "      <td>98</td>\n",
              "      <td>All industries</td>\n",
              "    </tr>\n",
              "  </tbody>\n",
              "</table>\n",
              "</div>"
            ],
            "text/plain": [
              "    cnt  \\\n",
              "0   149   \n",
              "1   140   \n",
              "2    92   \n",
              "3    79   \n",
              "4    23   \n",
              "5    22   \n",
              "6    21   \n",
              "7    16   \n",
              "8    13   \n",
              "9     9   \n",
              "10   98   \n",
              "\n",
              "                                                                                                                                            industry  \n",
              "0                                                                                                                Разработка программного обеспечения  \n",
              "1                                                 Системная интеграция,  автоматизации технологических и бизнес-процессов предприятия, ИТ-консалтинг  \n",
              "2                                                                                                                                               Банк  \n",
              "3   Интернет-компания (поисковики, платежные системы, соц.сети, информационно-познавательные и развлекательные ресурсы, продвижение сайтов и прочее)  \n",
              "4                                                                                                                                    Мобильная связь  \n",
              "5                                                            Маркетинговые, рекламные, BTL, дизайнерские, Event-, PR-агентства, организация выставок  \n",
              "6                                                                                         Управляющая, инвестиционная компания (управление активами)  \n",
              "7                                                                                                                              Консалтинговые услуги  \n",
              "8                                                                                                                                Фиксированная связь  \n",
              "9                                                                                      Научно-исследовательская, научная, академическая деятельность  \n",
              "10                                                                                                                                    All industries  "
            ]
          },
          "metadata": {},
          "output_type": "display_data"
        }
      ],
      "source": [
        "query = f'''\n",
        "WITH ind AS\n",
        "(SELECT             -- Подзапрос: наименования сфер деятельности работодателей дата-сайентистов\n",
        "    i.name industry\n",
        "FROM\n",
        "    vacancies v\t\n",
        "JOIN\n",
        "\temployers_industries e ON e.employer_id = v.employer_id\n",
        "JOIN\n",
        "    industries i ON i.id = e.industry_id\n",
        "WHERE (lower(v.name) LIKE '%%data scien%%'\n",
        "    OR lower(v.name) LIKE '%%исследователь данных%%'\n",
        "    OR v.name LIKE '%%ML%%' AND v.name NOT LIKE '%%HTML%%'\n",
        "    OR lower(v.name) LIKE '%%machine learning%%' \n",
        "    OR lower(v.name) LIKE '%%машинн%%обучен%%'))\n",
        "(SELECT\n",
        "    COUNT(*) cnt,\n",
        "    industry\n",
        "FROM\n",
        "    ind\n",
        "GROUP BY industry \n",
        "ORDER BY cnt DESC\n",
        "LIMIT 10)\n",
        "UNION ALL\n",
        "SELECT COUNT(DISTINCT industry), 'All industries' FROM ind\n",
        "        '''\n",
        "ds_ind = pd.read_sql_query(query, connection)\n",
        "display(ds_ind)"
      ]
    },
    {
      "attachments": {},
      "cell_type": "markdown",
      "id": "e537f5c0",
      "metadata": {},
      "source": [
        "По направлениям деятельности компаний, использующих технологии Data Science, лидируют ИТ-компании, банки. Раз в пять отстают телекоммуникации и инвестиции/консалтинг. Пока нет такого же масштабного запроса на дата-сайентистов в научных исследованиях.\n",
        "\n",
        "Вообще круг интересов компаний, желающих нанять дата-сайентиста, достаточно широк: треть - 98 из 294 - направлений деятельности попали в наш запрос.\n",
        "\n",
        "В заключение отметим, что у Data Science большие перспективы, как видим, еще не все регионы и не все сферы деятельности готовы получать синергетический эффект от применения высоких технологий. Пока в наш запрос по DS не попали Такси, Мясная и Молочная продукция."
      ]
    },
    {
      "cell_type": "code",
      "execution_count": null,
      "id": "5d7981c6",
      "metadata": {},
      "outputs": [],
      "source": [
        "connection.close()"
      ]
    }
  ],
  "metadata": {
    "colab": {
      "collapsed_sections": [
        "8d62a9f3-f64e-4fe7-bdac-c4dffa16155e"
      ],
      "provenance": []
    },
    "kernelspec": {
      "display_name": "Python 3",
      "language": "python",
      "name": "python3"
    },
    "language_info": {
      "codemirror_mode": {
        "name": "ipython",
        "version": 3
      },
      "file_extension": ".py",
      "mimetype": "text/x-python",
      "name": "python",
      "nbconvert_exporter": "python",
      "pygments_lexer": "ipython3",
      "version": "3.9.10"
    },
    "vscode": {
      "interpreter": {
        "hash": "3174e421fbc267c699b39ac34db49ebe9ee3c46a49b4f3fb67194bc5189cdd38"
      }
    }
  },
  "nbformat": 4,
  "nbformat_minor": 5
}
