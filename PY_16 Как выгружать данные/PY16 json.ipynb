{
 "cells": [
  {
   "cell_type": "code",
   "execution_count": null,
   "metadata": {},
   "outputs": [],
   "source": [
    "import json\n",
    "from pprint import pprint # Импортируем функцию pprint()"
   ]
  },
  {
   "cell_type": "code",
   "execution_count": null,
   "metadata": {},
   "outputs": [],
   "source": [
    "with open('data/recipes.json') as f: # Открываем файл и связываем его с объектом \"f\"\n",
    "    recipes = json.load(f) # Загружаем содержимое открытого файла в переменную recipes"
   ]
  },
  {
   "cell_type": "code",
   "execution_count": 3,
   "metadata": {},
   "outputs": [
    {
     "data": {
      "text/html": [
       "<div>\n",
       "<style scoped>\n",
       "    .dataframe tbody tr th:only-of-type {\n",
       "        vertical-align: middle;\n",
       "    }\n",
       "\n",
       "    .dataframe tbody tr th {\n",
       "        vertical-align: top;\n",
       "    }\n",
       "\n",
       "    .dataframe thead th {\n",
       "        text-align: right;\n",
       "    }\n",
       "</style>\n",
       "<table border=\"1\" class=\"dataframe\">\n",
       "  <thead>\n",
       "    <tr style=\"text-align: right;\">\n",
       "      <th></th>\n",
       "      <th>id</th>\n",
       "      <th>cuisine</th>\n",
       "      <th>ingredients</th>\n",
       "    </tr>\n",
       "  </thead>\n",
       "  <tbody>\n",
       "    <tr>\n",
       "      <th>0</th>\n",
       "      <td>10259</td>\n",
       "      <td>greek</td>\n",
       "      <td>[romaine lettuce, black olives, grape tomatoes...</td>\n",
       "    </tr>\n",
       "    <tr>\n",
       "      <th>1</th>\n",
       "      <td>25693</td>\n",
       "      <td>southern_us</td>\n",
       "      <td>[plain flour, ground pepper, salt, tomatoes, g...</td>\n",
       "    </tr>\n",
       "    <tr>\n",
       "      <th>2</th>\n",
       "      <td>20130</td>\n",
       "      <td>filipino</td>\n",
       "      <td>[eggs, pepper, salt, mayonaise, cooking oil, g...</td>\n",
       "    </tr>\n",
       "    <tr>\n",
       "      <th>3</th>\n",
       "      <td>22213</td>\n",
       "      <td>indian</td>\n",
       "      <td>[water, vegetable oil, wheat, salt]</td>\n",
       "    </tr>\n",
       "    <tr>\n",
       "      <th>4</th>\n",
       "      <td>13162</td>\n",
       "      <td>indian</td>\n",
       "      <td>[black pepper, shallots, cornflour, cayenne pe...</td>\n",
       "    </tr>\n",
       "  </tbody>\n",
       "</table>\n",
       "</div>"
      ],
      "text/plain": [
       "      id      cuisine                                        ingredients\n",
       "0  10259        greek  [romaine lettuce, black olives, grape tomatoes...\n",
       "1  25693  southern_us  [plain flour, ground pepper, salt, tomatoes, g...\n",
       "2  20130     filipino  [eggs, pepper, salt, mayonaise, cooking oil, g...\n",
       "3  22213       indian                [water, vegetable oil, wheat, salt]\n",
       "4  13162       indian  [black pepper, shallots, cornflour, cayenne pe..."
      ]
     },
     "metadata": {},
     "output_type": "display_data"
    }
   ],
   "source": [
    "import json # Импортируем модуль json\n",
    "from pprint import pprint # Импортируем функцию pprint()\n",
    "import pandas as pd # Импортируем модуль pandas\n",
    "\n",
    "with open('data/recipes.json') as f: # Открываем файл и связываем его с объектом \"f\"\n",
    "    recipes = json.load(f) # Загружаем содержимое открытого файла в переменную recipes\n",
    "df = pd.DataFrame(recipes) # Создаём объект DataFrame из списка recipes\n",
    "display(df.head()) # Выводим на экран первые строки полученного DataFrame"
   ]
  },
  {
   "cell_type": "code",
   "execution_count": null,
   "metadata": {},
   "outputs": [],
   "source": [
    "pprint(recipes) # Выводим на экран содержимое переменной recipes, используя функция pprint()"
   ]
  },
  {
   "cell_type": "code",
   "execution_count": null,
   "metadata": {},
   "outputs": [],
   "source": [
    "len(recipes[0]['ingredients'])"
   ]
  },
  {
   "cell_type": "code",
   "execution_count": null,
   "metadata": {},
   "outputs": [],
   "source": [
    "import json # Импортируем модуль json\n",
    "from pprint import pprint # Импортируем функцию pprint()\n",
    "with open('data/recipes.json') as f: # Открываем файл и связываем его с объектом \"f\"\n",
    "    recipes = json.load(f) # Загружаем содержимое открытого файла в переменную recipes\n",
    "for recipe in recipes: # начинаем перебор всех блюд входящих в список\n",
    "    if recipe['id'] == 13121: # если id текущего блюда равен заданному для поиска\n",
    "        print(recipe['cuisine']) # выводим на экран наименование кухни, к которой относится блюдо\n",
    "        break # прерываем выполнение цикла, т.к. нужное блюдо найдено"
   ]
  },
  {
   "cell_type": "code",
   "execution_count": null,
   "metadata": {},
   "outputs": [],
   "source": [
    "# Используя список        \n",
    "import json # Импортируем модуль json\n",
    "from pprint import pprint # Импортируем функцию pprint()\n",
    "with open('data/recipes.json') as f: # Открываем файл и связываем его с объектом \"f\"\n",
    "    recipes = json.load(f) # Загружаем содержимое открытого файла в переменную recipes\n",
    "cuisines = [] # создаём пустой список для хранения уникальных значений кухонь\n",
    "for recipe in recipes: # начинаем перебор всех рецептов\n",
    "    if not(recipe['cuisine'] in cuisines): # если тип кухни текущего блюда ещё не встречался\n",
    "        cuisines.append(recipe['cuisine']) # добавляем его к списку cuisines\n",
    "len(cuisines) # Выводим на экран полученное значение"
   ]
  },
  {
   "cell_type": "code",
   "execution_count": null,
   "metadata": {},
   "outputs": [],
   "source": [
    "import json # Импортируем модуль json\n",
    "from pprint import pprint # Импортируем функцию pprint()\n",
    "with open('data/recipes.json') as f: # Открываем файл и связываем его с объектом \"f\"\n",
    "    recipes = json.load(f) # Загружаем содержимое открытого файла в переменную recipes\n",
    "cuisines = set()  # создаём пустое множество для хранения уникальных значений кухонь\n",
    "for recipe in recipes:  # начинаем перебор всех рецептов\n",
    "    cuisines.add(recipe['cuisine']) # добавляем название типа кухни к множеству\n",
    "len(cuisines) # Выводим на экран полученное значение"
   ]
  },
  {
   "cell_type": "code",
   "execution_count": null,
   "metadata": {},
   "outputs": [],
   "source": [
    "import json\n",
    "from pprint import pprint\n",
    "with open('data/recipes.json') as f:\n",
    "    recipes = json.load(f)\n",
    "cuisines = []\n",
    "for recipe in recipes: # Начинаем перебор всех рецептов\n",
    "    if not(recipe['cuisine'] in cuisines): # Если тип кухни текущего блюда ещё не встречался\n",
    "        cuisines.append(recipe['cuisine'])\n",
    "valreccuisine = {}\n",
    "for item in cuisines: # Перебираем список кухонь\n",
    "    valreccuisine[item] = 0 # Добавляем в словарь ключ, соответствующий очередной кухне\n",
    "for recipe in recipes: # Перебираем список рецептов\n",
    "    valreccuisine[recipe['cuisine']] += 1\n",
    "print(max(valreccuisine, key=valreccuisine.get))\n",
    "\n",
    "display(valreccuisine)\n"
   ]
  }
 ],
 "metadata": {
  "kernelspec": {
   "display_name": "Python 3.9.10 64-bit",
   "language": "python",
   "name": "python3"
  },
  "language_info": {
   "codemirror_mode": {
    "name": "ipython",
    "version": 3
   },
   "file_extension": ".py",
   "mimetype": "text/x-python",
   "name": "python",
   "nbconvert_exporter": "python",
   "pygments_lexer": "ipython3",
   "version": "3.9.10 (tags/v3.9.10:f2f3f53, Jan 17 2022, 15:14:21) [MSC v.1929 64 bit (AMD64)]"
  },
  "orig_nbformat": 4,
  "vscode": {
   "interpreter": {
    "hash": "3174e421fbc267c699b39ac34db49ebe9ee3c46a49b4f3fb67194bc5189cdd38"
   }
  }
 },
 "nbformat": 4,
 "nbformat_minor": 2
}
